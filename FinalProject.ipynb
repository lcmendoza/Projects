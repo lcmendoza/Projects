{
 "cells": [
  {
   "cell_type": "markdown",
   "metadata": {
    "colab_type": "text",
    "id": "Y2l3Y818h1In"
   },
   "source": [
    "# COGS 108 Final Project"
   ]
  },
  {
   "cell_type": "markdown",
   "metadata": {
    "colab_type": "text",
    "id": "QRq_uClGh1Ip"
   },
   "source": [
    "## Group Members \n",
    "- Hao-In Choi: A14726076 \n",
    "- Lereanne Mendoza: A14696819 \n",
    "- Victoria Vu: A13797934 \n",
    "- Mayu Wilson: A13625483 "
   ]
  },
  {
   "cell_type": "markdown",
   "metadata": {
    "colab_type": "text",
    "id": "CBJCLzAoh1Iq"
   },
   "source": [
    "### Introduction & Background  \n",
    "\n",
    "#### Research Question \n",
    "<i>What factors should aspiring YouTube content creators focus on when trying to increase their popularity by raising their subscriber count?</i> \n",
    "\n",
    "#### Hypothesis\n",
    "As social media platforms such as Instagram and Youtube have become more popular, there has also been an influx in the number of people who earn their living by producing content on these platforms. Our team wants to see what aspiring Youtube creators can do to rise to the ranks of the most popular channels. SocialBlade uses the number of subscribers as a large factor in determining the grade and rank of the channel so we decided that the subscriber count is a good indicator of popularity in general. We believe that the number of subscribers can be predicted by the number of video uploads and the number of video views.\n",
    "\n",
    "We hypothesize that the number of video uploads and video views will be strongly predictive of the channel's subscriber count: the more videos and video views a channel has, the higher the subscriber count will be. We are also interested in seeing if the other categories are correlated to subscriber count as well.\n",
    "\n",
    "We think our question is meaningful because it can provide a guideline for uploading videos that content creators can follow when trying to gain more subscribers, whether they are just starting up their channel or well on their way to Youtube fame. We also chose this topic because Youtube and other social media platforms are very immediate to us and it would be fun to see how numbers we see everyday are related to each other."
   ]
  },
  {
   "cell_type": "markdown",
   "metadata": {
    "colab_type": "text",
    "id": "NQz6X7pwh1Is"
   },
   "source": [
    "### Data Description \n",
    "\n",
    "The dataset that our team used comes from https://www.kaggle.com/mdhrumil/top-5000-youtube-channels-data-from-socialblade. \n",
    "\n",
    "We are using one data set for this project. This data set was taken off of Kaggle and contains data about the top 5000 YouTube channels which was taken off of a website called SocialBlade, a company which tracks user statistics off of YouTube, Twitter, Instagram, and other social media platforms. The company also allows users to receive feedback for their own videos and join a network of other YouTubers, and it is overall a good resource for someone who is looking to build an online presence. The categories of information about the YouTube channels(the columns) include rank, grade, channel name, number of video uploads, total video views and total number of subscribers. The rank is determined by a number of factors including subscriber count and total views as well as the number of \"other channel\" widgets. Grade directly corresponds to the rank: the higher your rank, the higher your grade. The two are conferred by SocialBlade."
   ]
  },
  {
   "cell_type": "markdown",
   "metadata": {
    "colab_type": "text",
    "id": "67FbyX2Oh1It"
   },
   "source": [
    "### Import of Packages"
   ]
  },
  {
   "cell_type": "code",
   "execution_count": 1,
   "metadata": {
    "colab": {},
    "colab_type": "code",
    "id": "R3m6KhKJh1Iu"
   },
   "outputs": [],
   "source": [
    "# Import of all packages needed\n",
    "\n",
    "import numpy as np \n",
    "import pandas as pd\n",
    "import matplotlib.pyplot as plt \n",
    "import scipy.stats as stats\n",
    "from scipy.stats import ttest_ind, chisquare, normaltest\n",
    "import seaborn as sns \n",
    "from sklearn import linear_model\n",
    "import statsmodels.api as sm\n",
    "import patsy"
   ]
  },
  {
   "cell_type": "markdown",
   "metadata": {
    "colab_type": "text",
    "id": "Z6e0TZkrh1Iz"
   },
   "source": [
    "### Data Cleaning and Pre-Processing "
   ]
  },
  {
   "cell_type": "code",
   "execution_count": 2,
   "metadata": {
    "colab": {
     "base_uri": "https://localhost:8080/",
     "height": 92,
     "resources": {
      "http://localhost:8080/nbextensions/google.colab/files.js": {
       "data": "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",
       "headers": [
        [
         "content-type",
         "application/javascript"
        ]
       ],
       "ok": true,
       "status": 200,
       "status_text": ""
      }
     }
    },
    "colab_type": "code",
    "id": "6HHVDOzQh1I0",
    "outputId": "74f31d72-04d2-4664-cbc3-8d22d1ea7755"
   },
   "outputs": [],
   "source": [
    "# Firstly, we are loading the YouTube data and putting everything into a dataframe \n",
    "df_youtube = pd.read_csv('data.csv')"
   ]
  },
  {
   "cell_type": "code",
   "execution_count": 3,
   "metadata": {
    "colab": {
     "base_uri": "https://localhost:8080/",
     "height": 2114
    },
    "colab_type": "code",
    "id": "VlayqDAFj7nt",
    "outputId": "b7953a0c-1af9-4ea9-f54e-ef0a892c9138"
   },
   "outputs": [
    {
     "data": {
      "text/html": [
       "<div>\n",
       "<style scoped>\n",
       "    .dataframe tbody tr th:only-of-type {\n",
       "        vertical-align: middle;\n",
       "    }\n",
       "\n",
       "    .dataframe tbody tr th {\n",
       "        vertical-align: top;\n",
       "    }\n",
       "\n",
       "    .dataframe thead th {\n",
       "        text-align: right;\n",
       "    }\n",
       "</style>\n",
       "<table border=\"1\" class=\"dataframe\">\n",
       "  <thead>\n",
       "    <tr style=\"text-align: right;\">\n",
       "      <th></th>\n",
       "      <th>Rank</th>\n",
       "      <th>Grade</th>\n",
       "      <th>Channel name</th>\n",
       "      <th>Video Uploads</th>\n",
       "      <th>Subscribers</th>\n",
       "      <th>Video views</th>\n",
       "    </tr>\n",
       "  </thead>\n",
       "  <tbody>\n",
       "    <tr>\n",
       "      <th>0</th>\n",
       "      <td>1st</td>\n",
       "      <td>A++</td>\n",
       "      <td>Zee TV</td>\n",
       "      <td>82757.0</td>\n",
       "      <td>18752951.0</td>\n",
       "      <td>20869786591</td>\n",
       "    </tr>\n",
       "    <tr>\n",
       "      <th>1</th>\n",
       "      <td>2nd</td>\n",
       "      <td>A++</td>\n",
       "      <td>T-Series</td>\n",
       "      <td>12661.0</td>\n",
       "      <td>61196302.0</td>\n",
       "      <td>47548839843</td>\n",
       "    </tr>\n",
       "    <tr>\n",
       "      <th>2</th>\n",
       "      <td>3rd</td>\n",
       "      <td>A++</td>\n",
       "      <td>Cocomelon - Nursery Rhymes</td>\n",
       "      <td>373.0</td>\n",
       "      <td>19238251.0</td>\n",
       "      <td>9793305082</td>\n",
       "    </tr>\n",
       "    <tr>\n",
       "      <th>3</th>\n",
       "      <td>4th</td>\n",
       "      <td>A++</td>\n",
       "      <td>SET India</td>\n",
       "      <td>27323.0</td>\n",
       "      <td>31180559.0</td>\n",
       "      <td>22675948293</td>\n",
       "    </tr>\n",
       "    <tr>\n",
       "      <th>4</th>\n",
       "      <td>5th</td>\n",
       "      <td>A++</td>\n",
       "      <td>WWE</td>\n",
       "      <td>36756.0</td>\n",
       "      <td>32852346.0</td>\n",
       "      <td>26273668433</td>\n",
       "    </tr>\n",
       "    <tr>\n",
       "      <th>5</th>\n",
       "      <td>6th</td>\n",
       "      <td>A++</td>\n",
       "      <td>Movieclips</td>\n",
       "      <td>30243.0</td>\n",
       "      <td>17149705.0</td>\n",
       "      <td>16618094724</td>\n",
       "    </tr>\n",
       "    <tr>\n",
       "      <th>6</th>\n",
       "      <td>7th</td>\n",
       "      <td>A++</td>\n",
       "      <td>netd müzik</td>\n",
       "      <td>8500.0</td>\n",
       "      <td>11373567.0</td>\n",
       "      <td>23898730764</td>\n",
       "    </tr>\n",
       "    <tr>\n",
       "      <th>7</th>\n",
       "      <td>8th</td>\n",
       "      <td>A++</td>\n",
       "      <td>ABS-CBN Entertainment</td>\n",
       "      <td>100147.0</td>\n",
       "      <td>12149206.0</td>\n",
       "      <td>17202609850</td>\n",
       "    </tr>\n",
       "    <tr>\n",
       "      <th>8</th>\n",
       "      <td>9th</td>\n",
       "      <td>A++</td>\n",
       "      <td>Ryan ToysReview</td>\n",
       "      <td>1140.0</td>\n",
       "      <td>16082927.0</td>\n",
       "      <td>24518098041</td>\n",
       "    </tr>\n",
       "    <tr>\n",
       "      <th>9</th>\n",
       "      <td>10th</td>\n",
       "      <td>A++</td>\n",
       "      <td>Zee Marathi</td>\n",
       "      <td>74607.0</td>\n",
       "      <td>2841811.0</td>\n",
       "      <td>2591830307</td>\n",
       "    </tr>\n",
       "    <tr>\n",
       "      <th>10</th>\n",
       "      <td>11th</td>\n",
       "      <td>A+</td>\n",
       "      <td>5-Minute Crafts</td>\n",
       "      <td>2085.0</td>\n",
       "      <td>33492951.0</td>\n",
       "      <td>8587520379</td>\n",
       "    </tr>\n",
       "    <tr>\n",
       "      <th>11</th>\n",
       "      <td>12th</td>\n",
       "      <td>A+</td>\n",
       "      <td>Canal KondZilla</td>\n",
       "      <td>822.0</td>\n",
       "      <td>39409726.0</td>\n",
       "      <td>19291034467</td>\n",
       "    </tr>\n",
       "    <tr>\n",
       "      <th>12</th>\n",
       "      <td>13th</td>\n",
       "      <td>A+</td>\n",
       "      <td>Like Nastya Vlog</td>\n",
       "      <td>150.0</td>\n",
       "      <td>7662886.0</td>\n",
       "      <td>2540099931</td>\n",
       "    </tr>\n",
       "    <tr>\n",
       "      <th>13</th>\n",
       "      <td>14th</td>\n",
       "      <td>A+</td>\n",
       "      <td>Ozuna</td>\n",
       "      <td>50.0</td>\n",
       "      <td>18824912.0</td>\n",
       "      <td>8727783225</td>\n",
       "    </tr>\n",
       "    <tr>\n",
       "      <th>14</th>\n",
       "      <td>15th</td>\n",
       "      <td>A+</td>\n",
       "      <td>Wave Music</td>\n",
       "      <td>16119.0</td>\n",
       "      <td>15899764.0</td>\n",
       "      <td>10989179147</td>\n",
       "    </tr>\n",
       "    <tr>\n",
       "      <th>15</th>\n",
       "      <td>16th</td>\n",
       "      <td>A+</td>\n",
       "      <td>Ch3Thailand</td>\n",
       "      <td>49239.0</td>\n",
       "      <td>11569723.0</td>\n",
       "      <td>9388600275</td>\n",
       "    </tr>\n",
       "    <tr>\n",
       "      <th>16</th>\n",
       "      <td>17th</td>\n",
       "      <td>A+</td>\n",
       "      <td>WORLDSTARHIPHOP</td>\n",
       "      <td>4778.0</td>\n",
       "      <td>15830098.0</td>\n",
       "      <td>11102158475</td>\n",
       "    </tr>\n",
       "    <tr>\n",
       "      <th>17</th>\n",
       "      <td>18th</td>\n",
       "      <td>A+</td>\n",
       "      <td>Vlad and Nikita</td>\n",
       "      <td>53.0</td>\n",
       "      <td>NaN</td>\n",
       "      <td>1428274554</td>\n",
       "    </tr>\n",
       "    <tr>\n",
       "      <th>18</th>\n",
       "      <td>19th</td>\n",
       "      <td>A+</td>\n",
       "      <td>Badabun</td>\n",
       "      <td>3060.0</td>\n",
       "      <td>23603062.0</td>\n",
       "      <td>5860444053</td>\n",
       "    </tr>\n",
       "    <tr>\n",
       "      <th>19</th>\n",
       "      <td>20th</td>\n",
       "      <td>A+</td>\n",
       "      <td>WorkpointOfficial</td>\n",
       "      <td>24287.0</td>\n",
       "      <td>17687229.0</td>\n",
       "      <td>14022189654</td>\n",
       "    </tr>\n",
       "    <tr>\n",
       "      <th>20</th>\n",
       "      <td>21st</td>\n",
       "      <td>A+</td>\n",
       "      <td>xxxtentacion</td>\n",
       "      <td>48.0</td>\n",
       "      <td>11593509.0</td>\n",
       "      <td>2029279311</td>\n",
       "    </tr>\n",
       "    <tr>\n",
       "      <th>21</th>\n",
       "      <td>22nd</td>\n",
       "      <td>A+</td>\n",
       "      <td>Zee Music Company</td>\n",
       "      <td>3403.0</td>\n",
       "      <td>23440427.0</td>\n",
       "      <td>11666909155</td>\n",
       "    </tr>\n",
       "    <tr>\n",
       "      <th>22</th>\n",
       "      <td>23rd</td>\n",
       "      <td>A+</td>\n",
       "      <td>SAB TV</td>\n",
       "      <td>19358.0</td>\n",
       "      <td>11347420.0</td>\n",
       "      <td>9572788450</td>\n",
       "    </tr>\n",
       "    <tr>\n",
       "      <th>23</th>\n",
       "      <td>24th</td>\n",
       "      <td>A+</td>\n",
       "      <td>DeadloxMC</td>\n",
       "      <td>1833.0</td>\n",
       "      <td>2137907.0</td>\n",
       "      <td>245437560</td>\n",
       "    </tr>\n",
       "    <tr>\n",
       "      <th>24</th>\n",
       "      <td>25th</td>\n",
       "      <td>A+</td>\n",
       "      <td>ETV Andhra Pradesh</td>\n",
       "      <td>186194.0</td>\n",
       "      <td>712562.0</td>\n",
       "      <td>349096736</td>\n",
       "    </tr>\n",
       "    <tr>\n",
       "      <th>25</th>\n",
       "      <td>26th</td>\n",
       "      <td>A+</td>\n",
       "      <td>Shemaroo Filmi Gaane</td>\n",
       "      <td>5076.0</td>\n",
       "      <td>14469618.0</td>\n",
       "      <td>6585569190</td>\n",
       "    </tr>\n",
       "    <tr>\n",
       "      <th>26</th>\n",
       "      <td>27th</td>\n",
       "      <td>A+</td>\n",
       "      <td>ibighit</td>\n",
       "      <td>277.0</td>\n",
       "      <td>16924523.0</td>\n",
       "      <td>3437613314</td>\n",
       "    </tr>\n",
       "    <tr>\n",
       "      <th>27</th>\n",
       "      <td>28th</td>\n",
       "      <td>A+</td>\n",
       "      <td>El Reino Infantil</td>\n",
       "      <td>555.0</td>\n",
       "      <td>15836366.0</td>\n",
       "      <td>16395683234</td>\n",
       "    </tr>\n",
       "    <tr>\n",
       "      <th>28</th>\n",
       "      <td>29th</td>\n",
       "      <td>A+</td>\n",
       "      <td>Zee Telugu</td>\n",
       "      <td>92250.0</td>\n",
       "      <td>2902714.0</td>\n",
       "      <td>2754482753</td>\n",
       "    </tr>\n",
       "    <tr>\n",
       "      <th>29</th>\n",
       "      <td>30th</td>\n",
       "      <td>A+</td>\n",
       "      <td>Kirin AMV's</td>\n",
       "      <td>230.0</td>\n",
       "      <td>459906.0</td>\n",
       "      <td>224608044</td>\n",
       "    </tr>\n",
       "    <tr>\n",
       "      <th>...</th>\n",
       "      <td>...</td>\n",
       "      <td>...</td>\n",
       "      <td>...</td>\n",
       "      <td>...</td>\n",
       "      <td>...</td>\n",
       "      <td>...</td>\n",
       "    </tr>\n",
       "    <tr>\n",
       "      <th>4970</th>\n",
       "      <td>4,971st</td>\n",
       "      <td>B+</td>\n",
       "      <td>Chilevisión</td>\n",
       "      <td>13547.0</td>\n",
       "      <td>885667.0</td>\n",
       "      <td>596835119</td>\n",
       "    </tr>\n",
       "    <tr>\n",
       "      <th>4971</th>\n",
       "      <td>4,972nd</td>\n",
       "      <td>B+</td>\n",
       "      <td>SonyLIV</td>\n",
       "      <td>1206.0</td>\n",
       "      <td>2414713.0</td>\n",
       "      <td>483072980</td>\n",
       "    </tr>\n",
       "    <tr>\n",
       "      <th>4972</th>\n",
       "      <td>4,973rd</td>\n",
       "      <td>B+</td>\n",
       "      <td>Fanatik Klasik Film</td>\n",
       "      <td>2071.0</td>\n",
       "      <td>673787.0</td>\n",
       "      <td>509406756</td>\n",
       "    </tr>\n",
       "    <tr>\n",
       "      <th>4973</th>\n",
       "      <td>4,974th</td>\n",
       "      <td>B+</td>\n",
       "      <td>ของเล่นแสนสนุก…</td>\n",
       "      <td>202.0</td>\n",
       "      <td>829870.0</td>\n",
       "      <td>310449113</td>\n",
       "    </tr>\n",
       "    <tr>\n",
       "      <th>4974</th>\n",
       "      <td>4,975th</td>\n",
       "      <td>B+</td>\n",
       "      <td>Rahim Pardesi</td>\n",
       "      <td>153.0</td>\n",
       "      <td>1436546.0</td>\n",
       "      <td>498989227</td>\n",
       "    </tr>\n",
       "    <tr>\n",
       "      <th>4975</th>\n",
       "      <td>4,976th</td>\n",
       "      <td>B+</td>\n",
       "      <td>Funny Kids</td>\n",
       "      <td>1.0</td>\n",
       "      <td>150091.0</td>\n",
       "      <td>21933876</td>\n",
       "    </tr>\n",
       "    <tr>\n",
       "      <th>4976</th>\n",
       "      <td>4,977th</td>\n",
       "      <td>B+</td>\n",
       "      <td>AvonBR</td>\n",
       "      <td>297.0</td>\n",
       "      <td>229079.0</td>\n",
       "      <td>343820279</td>\n",
       "    </tr>\n",
       "    <tr>\n",
       "      <th>4977</th>\n",
       "      <td>4,978th</td>\n",
       "      <td>B+</td>\n",
       "      <td>Disney Channel Africa</td>\n",
       "      <td>2184.0</td>\n",
       "      <td>638404.0</td>\n",
       "      <td>596218763</td>\n",
       "    </tr>\n",
       "    <tr>\n",
       "      <th>4978</th>\n",
       "      <td>4,979th</td>\n",
       "      <td>B+</td>\n",
       "      <td>Рома Светленький</td>\n",
       "      <td>49.0</td>\n",
       "      <td>106628.0</td>\n",
       "      <td>20229141</td>\n",
       "    </tr>\n",
       "    <tr>\n",
       "      <th>4979</th>\n",
       "      <td>4,980th</td>\n",
       "      <td>B+</td>\n",
       "      <td>MonkeyBoo</td>\n",
       "      <td>707.0</td>\n",
       "      <td>1558006.0</td>\n",
       "      <td>441243129</td>\n",
       "    </tr>\n",
       "    <tr>\n",
       "      <th>4980</th>\n",
       "      <td>4,981st</td>\n",
       "      <td>B+</td>\n",
       "      <td>Screen Junkies</td>\n",
       "      <td>878.0</td>\n",
       "      <td>6532616.0</td>\n",
       "      <td>2090085291</td>\n",
       "    </tr>\n",
       "    <tr>\n",
       "      <th>4981</th>\n",
       "      <td>4,982nd</td>\n",
       "      <td>B+</td>\n",
       "      <td>Luli60able</td>\n",
       "      <td>5.0</td>\n",
       "      <td>158905.0</td>\n",
       "      <td>119924990</td>\n",
       "    </tr>\n",
       "    <tr>\n",
       "      <th>4982</th>\n",
       "      <td>4,983rd</td>\n",
       "      <td>B+</td>\n",
       "      <td>채널A Home</td>\n",
       "      <td>9876.0</td>\n",
       "      <td>647435.0</td>\n",
       "      <td>827849271</td>\n",
       "    </tr>\n",
       "    <tr>\n",
       "      <th>4983</th>\n",
       "      <td>4,984th</td>\n",
       "      <td>B+</td>\n",
       "      <td>Машинка Игрушка</td>\n",
       "      <td>242.0</td>\n",
       "      <td>219238.0</td>\n",
       "      <td>116728609</td>\n",
       "    </tr>\n",
       "    <tr>\n",
       "      <th>4984</th>\n",
       "      <td>4,985th</td>\n",
       "      <td>B+</td>\n",
       "      <td>Jean L</td>\n",
       "      <td>2116.0</td>\n",
       "      <td>2875705.0</td>\n",
       "      <td>673550521</td>\n",
       "    </tr>\n",
       "    <tr>\n",
       "      <th>4985</th>\n",
       "      <td>4,986th</td>\n",
       "      <td>B+</td>\n",
       "      <td>AndreaBocelliVEVO</td>\n",
       "      <td>191.0</td>\n",
       "      <td>820381.0</td>\n",
       "      <td>485771289</td>\n",
       "    </tr>\n",
       "    <tr>\n",
       "      <th>4986</th>\n",
       "      <td>4,987th</td>\n",
       "      <td>B+</td>\n",
       "      <td>CidadeAlertaRecord</td>\n",
       "      <td>7299.0</td>\n",
       "      <td>1123300.0</td>\n",
       "      <td>346376750</td>\n",
       "    </tr>\n",
       "    <tr>\n",
       "      <th>4987</th>\n",
       "      <td>4,988th</td>\n",
       "      <td>B+</td>\n",
       "      <td>YouANDi Games</td>\n",
       "      <td>1358.0</td>\n",
       "      <td>1536819.0</td>\n",
       "      <td>424688400</td>\n",
       "    </tr>\n",
       "    <tr>\n",
       "      <th>4988</th>\n",
       "      <td>4,989th</td>\n",
       "      <td>B+</td>\n",
       "      <td>GREAT IDEAS GREAT LIFE</td>\n",
       "      <td>80.0</td>\n",
       "      <td>1349511.0</td>\n",
       "      <td>46911690</td>\n",
       "    </tr>\n",
       "    <tr>\n",
       "      <th>4989</th>\n",
       "      <td>4,990th</td>\n",
       "      <td>B+</td>\n",
       "      <td>Kukuli</td>\n",
       "      <td>219.0</td>\n",
       "      <td>660742.0</td>\n",
       "      <td>437197125</td>\n",
       "    </tr>\n",
       "    <tr>\n",
       "      <th>4990</th>\n",
       "      <td>4,991st</td>\n",
       "      <td>B+</td>\n",
       "      <td>Ho Ngoc Ha's Official Channel</td>\n",
       "      <td>208.0</td>\n",
       "      <td>NaN</td>\n",
       "      <td>127185704</td>\n",
       "    </tr>\n",
       "    <tr>\n",
       "      <th>4991</th>\n",
       "      <td>4,992nd</td>\n",
       "      <td>B+</td>\n",
       "      <td>Toys to Learn Colors</td>\n",
       "      <td>11.0</td>\n",
       "      <td>663114.0</td>\n",
       "      <td>141933264</td>\n",
       "    </tr>\n",
       "    <tr>\n",
       "      <th>4992</th>\n",
       "      <td>4,993rd</td>\n",
       "      <td>B+</td>\n",
       "      <td>КАZКА</td>\n",
       "      <td>25.0</td>\n",
       "      <td>131766.0</td>\n",
       "      <td>74304638</td>\n",
       "    </tr>\n",
       "    <tr>\n",
       "      <th>4993</th>\n",
       "      <td>4,994th</td>\n",
       "      <td>B+</td>\n",
       "      <td>United CUBE (CUBE Entertainment…</td>\n",
       "      <td>1055.0</td>\n",
       "      <td>1586835.0</td>\n",
       "      <td>371299166</td>\n",
       "    </tr>\n",
       "    <tr>\n",
       "      <th>4994</th>\n",
       "      <td>4,995th</td>\n",
       "      <td>B+</td>\n",
       "      <td>Wings Marathi</td>\n",
       "      <td>1735.0</td>\n",
       "      <td>1099659.0</td>\n",
       "      <td>346175699</td>\n",
       "    </tr>\n",
       "    <tr>\n",
       "      <th>4995</th>\n",
       "      <td>4,996th</td>\n",
       "      <td>B+</td>\n",
       "      <td>Uras Benlioğlu</td>\n",
       "      <td>706.0</td>\n",
       "      <td>2072942.0</td>\n",
       "      <td>441202795</td>\n",
       "    </tr>\n",
       "    <tr>\n",
       "      <th>4996</th>\n",
       "      <td>4,997th</td>\n",
       "      <td>B+</td>\n",
       "      <td>HI-TECH MUSIC LTD</td>\n",
       "      <td>797.0</td>\n",
       "      <td>1055091.0</td>\n",
       "      <td>377331722</td>\n",
       "    </tr>\n",
       "    <tr>\n",
       "      <th>4997</th>\n",
       "      <td>4,998th</td>\n",
       "      <td>B+</td>\n",
       "      <td>Mastersaint</td>\n",
       "      <td>110.0</td>\n",
       "      <td>3265735.0</td>\n",
       "      <td>311758426</td>\n",
       "    </tr>\n",
       "    <tr>\n",
       "      <th>4998</th>\n",
       "      <td>4,999th</td>\n",
       "      <td>B+</td>\n",
       "      <td>Bruce McIntosh</td>\n",
       "      <td>3475.0</td>\n",
       "      <td>32990.0</td>\n",
       "      <td>14563764</td>\n",
       "    </tr>\n",
       "    <tr>\n",
       "      <th>4999</th>\n",
       "      <td>5,000th</td>\n",
       "      <td>B+</td>\n",
       "      <td>SehatAQUA</td>\n",
       "      <td>254.0</td>\n",
       "      <td>21172.0</td>\n",
       "      <td>73312511</td>\n",
       "    </tr>\n",
       "  </tbody>\n",
       "</table>\n",
       "<p>5000 rows × 6 columns</p>\n",
       "</div>"
      ],
      "text/plain": [
       "         Rank Grade                      Channel name  Video Uploads  \\\n",
       "0         1st  A++                             Zee TV        82757.0   \n",
       "1         2nd  A++                           T-Series        12661.0   \n",
       "2         3rd  A++         Cocomelon - Nursery Rhymes          373.0   \n",
       "3         4th  A++                          SET India        27323.0   \n",
       "4         5th  A++                                WWE        36756.0   \n",
       "5         6th  A++                         Movieclips        30243.0   \n",
       "6         7th  A++                         netd müzik         8500.0   \n",
       "7         8th  A++              ABS-CBN Entertainment       100147.0   \n",
       "8         9th  A++                    Ryan ToysReview         1140.0   \n",
       "9        10th  A++                        Zee Marathi        74607.0   \n",
       "10       11th   A+                    5-Minute Crafts         2085.0   \n",
       "11       12th   A+                    Canal KondZilla          822.0   \n",
       "12       13th   A+                   Like Nastya Vlog          150.0   \n",
       "13       14th   A+                              Ozuna           50.0   \n",
       "14       15th   A+                         Wave Music        16119.0   \n",
       "15       16th   A+                        Ch3Thailand        49239.0   \n",
       "16       17th   A+                    WORLDSTARHIPHOP         4778.0   \n",
       "17       18th   A+                    Vlad and Nikita           53.0   \n",
       "18       19th   A+                            Badabun         3060.0   \n",
       "19       20th   A+                  WorkpointOfficial        24287.0   \n",
       "20       21st   A+                       xxxtentacion           48.0   \n",
       "21       22nd   A+                  Zee Music Company         3403.0   \n",
       "22       23rd   A+                             SAB TV        19358.0   \n",
       "23       24th   A+                          DeadloxMC         1833.0   \n",
       "24       25th   A+                 ETV Andhra Pradesh       186194.0   \n",
       "25       26th   A+               Shemaroo Filmi Gaane         5076.0   \n",
       "26       27th   A+                            ibighit          277.0   \n",
       "27       28th   A+                  El Reino Infantil          555.0   \n",
       "28       29th   A+                         Zee Telugu        92250.0   \n",
       "29       30th   A+                        Kirin AMV's          230.0   \n",
       "...       ...   ...                               ...            ...   \n",
       "4970  4,971st   B+                        Chilevisión        13547.0   \n",
       "4971  4,972nd   B+                            SonyLIV         1206.0   \n",
       "4972  4,973rd   B+                Fanatik Klasik Film         2071.0   \n",
       "4973  4,974th   B+                    ของเล่นแสนสนุก…          202.0   \n",
       "4974  4,975th   B+                      Rahim Pardesi          153.0   \n",
       "4975  4,976th   B+                         Funny Kids            1.0   \n",
       "4976  4,977th   B+                             AvonBR          297.0   \n",
       "4977  4,978th   B+              Disney Channel Africa         2184.0   \n",
       "4978  4,979th   B+                   Рома Светленький           49.0   \n",
       "4979  4,980th   B+                          MonkeyBoo          707.0   \n",
       "4980  4,981st   B+                     Screen Junkies          878.0   \n",
       "4981  4,982nd   B+                         Luli60able            5.0   \n",
       "4982  4,983rd   B+                           채널A Home         9876.0   \n",
       "4983  4,984th   B+                    Машинка Игрушка          242.0   \n",
       "4984  4,985th   B+                             Jean L         2116.0   \n",
       "4985  4,986th   B+                  AndreaBocelliVEVO          191.0   \n",
       "4986  4,987th   B+                 CidadeAlertaRecord         7299.0   \n",
       "4987  4,988th   B+                      YouANDi Games         1358.0   \n",
       "4988  4,989th   B+             GREAT IDEAS GREAT LIFE           80.0   \n",
       "4989  4,990th   B+                             Kukuli          219.0   \n",
       "4990  4,991st   B+      Ho Ngoc Ha's Official Channel          208.0   \n",
       "4991  4,992nd   B+               Toys to Learn Colors           11.0   \n",
       "4992  4,993rd   B+                              КАZКА           25.0   \n",
       "4993  4,994th   B+   United CUBE (CUBE Entertainment…         1055.0   \n",
       "4994  4,995th   B+                      Wings Marathi         1735.0   \n",
       "4995  4,996th   B+                     Uras Benlioğlu          706.0   \n",
       "4996  4,997th   B+                  HI-TECH MUSIC LTD          797.0   \n",
       "4997  4,998th   B+                        Mastersaint          110.0   \n",
       "4998  4,999th   B+                     Bruce McIntosh         3475.0   \n",
       "4999  5,000th   B+                          SehatAQUA          254.0   \n",
       "\n",
       "      Subscribers  Video views  \n",
       "0      18752951.0  20869786591  \n",
       "1      61196302.0  47548839843  \n",
       "2      19238251.0   9793305082  \n",
       "3      31180559.0  22675948293  \n",
       "4      32852346.0  26273668433  \n",
       "5      17149705.0  16618094724  \n",
       "6      11373567.0  23898730764  \n",
       "7      12149206.0  17202609850  \n",
       "8      16082927.0  24518098041  \n",
       "9       2841811.0   2591830307  \n",
       "10     33492951.0   8587520379  \n",
       "11     39409726.0  19291034467  \n",
       "12      7662886.0   2540099931  \n",
       "13     18824912.0   8727783225  \n",
       "14     15899764.0  10989179147  \n",
       "15     11569723.0   9388600275  \n",
       "16     15830098.0  11102158475  \n",
       "17            NaN   1428274554  \n",
       "18     23603062.0   5860444053  \n",
       "19     17687229.0  14022189654  \n",
       "20     11593509.0   2029279311  \n",
       "21     23440427.0  11666909155  \n",
       "22     11347420.0   9572788450  \n",
       "23      2137907.0    245437560  \n",
       "24       712562.0    349096736  \n",
       "25     14469618.0   6585569190  \n",
       "26     16924523.0   3437613314  \n",
       "27     15836366.0  16395683234  \n",
       "28      2902714.0   2754482753  \n",
       "29       459906.0    224608044  \n",
       "...           ...          ...  \n",
       "4970     885667.0    596835119  \n",
       "4971    2414713.0    483072980  \n",
       "4972     673787.0    509406756  \n",
       "4973     829870.0    310449113  \n",
       "4974    1436546.0    498989227  \n",
       "4975     150091.0     21933876  \n",
       "4976     229079.0    343820279  \n",
       "4977     638404.0    596218763  \n",
       "4978     106628.0     20229141  \n",
       "4979    1558006.0    441243129  \n",
       "4980    6532616.0   2090085291  \n",
       "4981     158905.0    119924990  \n",
       "4982     647435.0    827849271  \n",
       "4983     219238.0    116728609  \n",
       "4984    2875705.0    673550521  \n",
       "4985     820381.0    485771289  \n",
       "4986    1123300.0    346376750  \n",
       "4987    1536819.0    424688400  \n",
       "4988    1349511.0     46911690  \n",
       "4989     660742.0    437197125  \n",
       "4990          NaN    127185704  \n",
       "4991     663114.0    141933264  \n",
       "4992     131766.0     74304638  \n",
       "4993    1586835.0    371299166  \n",
       "4994    1099659.0    346175699  \n",
       "4995    2072942.0    441202795  \n",
       "4996    1055091.0    377331722  \n",
       "4997    3265735.0    311758426  \n",
       "4998      32990.0     14563764  \n",
       "4999      21172.0     73312511  \n",
       "\n",
       "[5000 rows x 6 columns]"
      ]
     },
     "execution_count": 3,
     "metadata": {},
     "output_type": "execute_result"
    }
   ],
   "source": [
    "df_youtube"
   ]
  },
  {
   "cell_type": "markdown",
   "metadata": {
    "colab_type": "text",
    "id": "1o3czC66h1JD"
   },
   "source": [
    "Our team noticed that the dataset contained empty values, specifically either under \"Video Uploads\" or “Subscribers”. Although we tried to look them up manually, the reason why these values were empty is because those corresponding channels may have hid them purposely or removed their affiliation with SocialBlade. With this, we decided to drop these rows. \n",
    "\n",
    "However, when checking the data by type, we also noticed that there was a space after each grade. This may affect our visualizations and analysis in that we cannot compare the variables that we want. So we also cleaned up the 'Grade' column."
   ]
  },
  {
   "cell_type": "code",
   "execution_count": 4,
   "metadata": {
    "colab": {},
    "colab_type": "code",
    "id": "FWnIV9rVh1JE"
   },
   "outputs": [],
   "source": [
    "# Dropping all rows that contained empty values\n",
    "df_youtube.dropna(inplace = True)"
   ]
  },
  {
   "cell_type": "code",
   "execution_count": 5,
   "metadata": {
    "colab": {
     "base_uri": "https://localhost:8080/",
     "height": 2097
    },
    "colab_type": "code",
    "id": "YNstT83ch1JI",
    "outputId": "80eb7d94-e42c-4d39-c2ef-7dd6c0f766bf"
   },
   "outputs": [
    {
     "data": {
      "text/html": [
       "<div>\n",
       "<style scoped>\n",
       "    .dataframe tbody tr th:only-of-type {\n",
       "        vertical-align: middle;\n",
       "    }\n",
       "\n",
       "    .dataframe tbody tr th {\n",
       "        vertical-align: top;\n",
       "    }\n",
       "\n",
       "    .dataframe thead th {\n",
       "        text-align: right;\n",
       "    }\n",
       "</style>\n",
       "<table border=\"1\" class=\"dataframe\">\n",
       "  <thead>\n",
       "    <tr style=\"text-align: right;\">\n",
       "      <th></th>\n",
       "      <th>Rank</th>\n",
       "      <th>Grade</th>\n",
       "      <th>Channel name</th>\n",
       "      <th>Video Uploads</th>\n",
       "      <th>Subscribers</th>\n",
       "      <th>Video views</th>\n",
       "    </tr>\n",
       "  </thead>\n",
       "  <tbody>\n",
       "    <tr>\n",
       "      <th>0</th>\n",
       "      <td>1st</td>\n",
       "      <td>A++</td>\n",
       "      <td>Zee TV</td>\n",
       "      <td>82757.0</td>\n",
       "      <td>18752951.0</td>\n",
       "      <td>20869786591</td>\n",
       "    </tr>\n",
       "    <tr>\n",
       "      <th>1</th>\n",
       "      <td>2nd</td>\n",
       "      <td>A++</td>\n",
       "      <td>T-Series</td>\n",
       "      <td>12661.0</td>\n",
       "      <td>61196302.0</td>\n",
       "      <td>47548839843</td>\n",
       "    </tr>\n",
       "    <tr>\n",
       "      <th>2</th>\n",
       "      <td>3rd</td>\n",
       "      <td>A++</td>\n",
       "      <td>Cocomelon - Nursery Rhymes</td>\n",
       "      <td>373.0</td>\n",
       "      <td>19238251.0</td>\n",
       "      <td>9793305082</td>\n",
       "    </tr>\n",
       "    <tr>\n",
       "      <th>3</th>\n",
       "      <td>4th</td>\n",
       "      <td>A++</td>\n",
       "      <td>SET India</td>\n",
       "      <td>27323.0</td>\n",
       "      <td>31180559.0</td>\n",
       "      <td>22675948293</td>\n",
       "    </tr>\n",
       "    <tr>\n",
       "      <th>4</th>\n",
       "      <td>5th</td>\n",
       "      <td>A++</td>\n",
       "      <td>WWE</td>\n",
       "      <td>36756.0</td>\n",
       "      <td>32852346.0</td>\n",
       "      <td>26273668433</td>\n",
       "    </tr>\n",
       "  </tbody>\n",
       "</table>\n",
       "</div>"
      ],
      "text/plain": [
       "  Rank Grade                Channel name  Video Uploads  Subscribers  \\\n",
       "0  1st  A++                       Zee TV        82757.0   18752951.0   \n",
       "1  2nd  A++                     T-Series        12661.0   61196302.0   \n",
       "2  3rd  A++   Cocomelon - Nursery Rhymes          373.0   19238251.0   \n",
       "3  4th  A++                    SET India        27323.0   31180559.0   \n",
       "4  5th  A++                          WWE        36756.0   32852346.0   \n",
       "\n",
       "   Video views  \n",
       "0  20869786591  \n",
       "1  47548839843  \n",
       "2   9793305082  \n",
       "3  22675948293  \n",
       "4  26273668433  "
      ]
     },
     "execution_count": 5,
     "metadata": {},
     "output_type": "execute_result"
    }
   ],
   "source": [
    "df_youtube.head()"
   ]
  },
  {
   "cell_type": "code",
   "execution_count": 6,
   "metadata": {
    "colab": {
     "base_uri": "https://localhost:8080/",
     "height": 1083
    },
    "colab_type": "code",
    "id": "PTfIlzP6h1JN",
    "outputId": "f64d0956-1fe2-4b08-cb11-40f01ac5e34a"
   },
   "outputs": [
    {
     "data": {
      "text/plain": [
       "0       A++ \n",
       "1       A++ \n",
       "2       A++ \n",
       "3       A++ \n",
       "4       A++ \n",
       "5       A++ \n",
       "6       A++ \n",
       "7       A++ \n",
       "8       A++ \n",
       "9       A++ \n",
       "10       A+ \n",
       "11       A+ \n",
       "12       A+ \n",
       "13       A+ \n",
       "14       A+ \n",
       "15       A+ \n",
       "16       A+ \n",
       "18       A+ \n",
       "19       A+ \n",
       "20       A+ \n",
       "21       A+ \n",
       "22       A+ \n",
       "23       A+ \n",
       "24       A+ \n",
       "25       A+ \n",
       "26       A+ \n",
       "27       A+ \n",
       "28       A+ \n",
       "29       A+ \n",
       "30       A+ \n",
       "        ... \n",
       "4969     B+ \n",
       "4970     B+ \n",
       "4971     B+ \n",
       "4972     B+ \n",
       "4973     B+ \n",
       "4974     B+ \n",
       "4975     B+ \n",
       "4976     B+ \n",
       "4977     B+ \n",
       "4978     B+ \n",
       "4979     B+ \n",
       "4980     B+ \n",
       "4981     B+ \n",
       "4982     B+ \n",
       "4983     B+ \n",
       "4984     B+ \n",
       "4985     B+ \n",
       "4986     B+ \n",
       "4987     B+ \n",
       "4988     B+ \n",
       "4989     B+ \n",
       "4991     B+ \n",
       "4992     B+ \n",
       "4993     B+ \n",
       "4994     B+ \n",
       "4995     B+ \n",
       "4996     B+ \n",
       "4997     B+ \n",
       "4998     B+ \n",
       "4999     B+ \n",
       "Name: Grade, Length: 4610, dtype: object"
      ]
     },
     "execution_count": 6,
     "metadata": {},
     "output_type": "execute_result"
    }
   ],
   "source": [
    "# Making sure that type of the grade is string\n",
    "df_youtube['Grade'].astype(str)"
   ]
  },
  {
   "cell_type": "code",
   "execution_count": 7,
   "metadata": {
    "colab": {},
    "colab_type": "code",
    "id": "f3YwSMIEh1JR"
   },
   "outputs": [],
   "source": [
    "# Function for cleaning the 'Grade' variable\n",
    "def standardize_grade(string): \n",
    "    string = string.strip()\n",
    "    return string"
   ]
  },
  {
   "cell_type": "code",
   "execution_count": 8,
   "metadata": {
    "colab": {
     "base_uri": "https://localhost:8080/",
     "height": 1083
    },
    "colab_type": "code",
    "id": "hInvNcQ3h1JV",
    "outputId": "5f2cade2-883d-49fb-d643-c6c017ec1349"
   },
   "outputs": [
    {
     "data": {
      "text/plain": [
       "0        True\n",
       "1        True\n",
       "2        True\n",
       "3        True\n",
       "4        True\n",
       "5        True\n",
       "6        True\n",
       "7        True\n",
       "8        True\n",
       "9        True\n",
       "10      False\n",
       "11      False\n",
       "12      False\n",
       "13      False\n",
       "14      False\n",
       "15      False\n",
       "16      False\n",
       "18      False\n",
       "19      False\n",
       "20      False\n",
       "21      False\n",
       "22      False\n",
       "23      False\n",
       "24      False\n",
       "25      False\n",
       "26      False\n",
       "27      False\n",
       "28      False\n",
       "29      False\n",
       "30      False\n",
       "        ...  \n",
       "4969    False\n",
       "4970    False\n",
       "4971    False\n",
       "4972    False\n",
       "4973    False\n",
       "4974    False\n",
       "4975    False\n",
       "4976    False\n",
       "4977    False\n",
       "4978    False\n",
       "4979    False\n",
       "4980    False\n",
       "4981    False\n",
       "4982    False\n",
       "4983    False\n",
       "4984    False\n",
       "4985    False\n",
       "4986    False\n",
       "4987    False\n",
       "4988    False\n",
       "4989    False\n",
       "4991    False\n",
       "4992    False\n",
       "4993    False\n",
       "4994    False\n",
       "4995    False\n",
       "4996    False\n",
       "4997    False\n",
       "4998    False\n",
       "4999    False\n",
       "Name: Grade, Length: 4610, dtype: bool"
      ]
     },
     "execution_count": 8,
     "metadata": {},
     "output_type": "execute_result"
    }
   ],
   "source": [
    "df_youtube['Grade'] = df_youtube['Grade'].apply(standardize_grade)\n",
    "df_youtube['Grade'] == 'A++' # checking if the data is clean"
   ]
  },
  {
   "cell_type": "code",
   "execution_count": 9,
   "metadata": {
    "colab": {
     "base_uri": "https://localhost:8080/",
     "height": 220
    },
    "colab_type": "code",
    "id": "B8sS9_DFlP4A",
    "outputId": "6c7556ad-da94-49da-be35-15f8074bd46c"
   },
   "outputs": [
    {
     "data": {
      "text/html": [
       "<div>\n",
       "<style scoped>\n",
       "    .dataframe tbody tr th:only-of-type {\n",
       "        vertical-align: middle;\n",
       "    }\n",
       "\n",
       "    .dataframe tbody tr th {\n",
       "        vertical-align: top;\n",
       "    }\n",
       "\n",
       "    .dataframe thead th {\n",
       "        text-align: right;\n",
       "    }\n",
       "</style>\n",
       "<table border=\"1\" class=\"dataframe\">\n",
       "  <thead>\n",
       "    <tr style=\"text-align: right;\">\n",
       "      <th></th>\n",
       "      <th>Rank</th>\n",
       "      <th>Grade</th>\n",
       "      <th>Channel name</th>\n",
       "      <th>video_uploads</th>\n",
       "      <th>Subscribers</th>\n",
       "      <th>views</th>\n",
       "    </tr>\n",
       "  </thead>\n",
       "  <tbody>\n",
       "    <tr>\n",
       "      <th>0</th>\n",
       "      <td>1st</td>\n",
       "      <td>A++</td>\n",
       "      <td>Zee TV</td>\n",
       "      <td>82757.0</td>\n",
       "      <td>18752951.0</td>\n",
       "      <td>20869786591</td>\n",
       "    </tr>\n",
       "    <tr>\n",
       "      <th>1</th>\n",
       "      <td>2nd</td>\n",
       "      <td>A++</td>\n",
       "      <td>T-Series</td>\n",
       "      <td>12661.0</td>\n",
       "      <td>61196302.0</td>\n",
       "      <td>47548839843</td>\n",
       "    </tr>\n",
       "    <tr>\n",
       "      <th>2</th>\n",
       "      <td>3rd</td>\n",
       "      <td>A++</td>\n",
       "      <td>Cocomelon - Nursery Rhymes</td>\n",
       "      <td>373.0</td>\n",
       "      <td>19238251.0</td>\n",
       "      <td>9793305082</td>\n",
       "    </tr>\n",
       "    <tr>\n",
       "      <th>3</th>\n",
       "      <td>4th</td>\n",
       "      <td>A++</td>\n",
       "      <td>SET India</td>\n",
       "      <td>27323.0</td>\n",
       "      <td>31180559.0</td>\n",
       "      <td>22675948293</td>\n",
       "    </tr>\n",
       "    <tr>\n",
       "      <th>4</th>\n",
       "      <td>5th</td>\n",
       "      <td>A++</td>\n",
       "      <td>WWE</td>\n",
       "      <td>36756.0</td>\n",
       "      <td>32852346.0</td>\n",
       "      <td>26273668433</td>\n",
       "    </tr>\n",
       "  </tbody>\n",
       "</table>\n",
       "</div>"
      ],
      "text/plain": [
       "  Rank Grade                Channel name  video_uploads  Subscribers  \\\n",
       "0  1st   A++                      Zee TV        82757.0   18752951.0   \n",
       "1  2nd   A++                    T-Series        12661.0   61196302.0   \n",
       "2  3rd   A++  Cocomelon - Nursery Rhymes          373.0   19238251.0   \n",
       "3  4th   A++                   SET India        27323.0   31180559.0   \n",
       "4  5th   A++                         WWE        36756.0   32852346.0   \n",
       "\n",
       "         views  \n",
       "0  20869786591  \n",
       "1  47548839843  \n",
       "2   9793305082  \n",
       "3  22675948293  \n",
       "4  26273668433  "
      ]
     },
     "execution_count": 9,
     "metadata": {},
     "output_type": "execute_result"
    }
   ],
   "source": [
    "df_youtube = df_youtube.rename(index=str, columns={\"Video Uploads\": \"video_uploads\",\"Video views\": \"views\"})\n",
    "df_youtube.head()"
   ]
  },
  {
   "cell_type": "markdown",
   "metadata": {
    "colab_type": "text",
    "id": "llRXk-4Kh1Jd"
   },
   "source": [
    "### Exploratory Data Visualization \n",
    "\n",
    "Firstly, we will visualize the data via a correlation, scatter matrix. This is to see if there are any noticeable correlations between certain variables, such that we can apply certain correlation methods to the right variables. "
   ]
  },
  {
   "cell_type": "code",
   "execution_count": 10,
   "metadata": {
    "colab": {
     "base_uri": "https://localhost:8080/",
     "height": 547
    },
    "colab_type": "code",
    "id": "zaEmkdtSh1Jf",
    "outputId": "1ea45e4f-a3fa-4604-d16d-39f31eec01e9"
   },
   "outputs": [
    {
     "data": {
      "image/png": "[encoded data removed]",
      "text/plain": [
       "<Figure size 540x540 with 12 Axes>"
      ]
     },
     "metadata": {
      "needs_background": "light"
     },
     "output_type": "display_data"
    }
   ],
   "source": [
    "# Creating a correlation scatter matrix in order to check for noticeable correlations \n",
    "\n",
    "youtube_scatter = sns.pairplot(df_youtube)\n",
    "youtube_scatter.fig.suptitle('Scatter Matrix of YouTube - SocialBlade Data', fontweight = 'bold')\n",
    "plt.show()"
   ]
  },
  {
   "cell_type": "markdown",
   "metadata": {
    "colab_type": "text",
    "id": "tscfuCHhh1Jn"
   },
   "source": [
    "Based on the scatter matrix, there appears to be several weak correlations between video uploads and video views, as well as subscribers and video uploads, and vice versa. However, we can see a decently strong correlation between subscribers and video views, and vice versa. Based on this, we are going to create a dataframe specifically for this correlation. "
   ]
  },
  {
   "cell_type": "code",
   "execution_count": 11,
   "metadata": {
    "colab": {
     "base_uri": "https://localhost:8080/",
     "height": 739
    },
    "colab_type": "code",
    "id": "w7gJCqyih1Jp",
    "outputId": "ca8aba37-5086-4108-92be-3e1c07d5b23f"
   },
   "outputs": [
    {
     "data": {
      "image/png": "[encoded data removed]",
      "text/plain": [
       "<Figure size 432x288 with 1 Axes>"
      ]
     },
     "metadata": {
      "needs_background": "light"
     },
     "output_type": "display_data"
    },
    {
     "data": {
      "image/png": "[encoded data removed]",
      "text/plain": [
       "<Figure size 432x288 with 1 Axes>"
      ]
     },
     "metadata": {
      "needs_background": "light"
     },
     "output_type": "display_data"
    }
   ],
   "source": [
    "df_subViews = plt.scatter(df_youtube['Subscribers'], df_youtube['views'], alpha = 0.5) \n",
    "plt.title('Correlation: Subscribers and Video Views', fontweight = 'bold')\n",
    "plt.xlabel('Subscribers', fontsize = 12)\n",
    "plt.ylabel('Video Views', fontsize = 12)\n",
    "plt.show()\n",
    "\n",
    "df_viewsSubs = plt.scatter(df_youtube['views'], df_youtube['Subscribers'], alpha = 0.5) \n",
    "plt.title('Correlation: Video Views and Subscribers', fontweight = 'bold')\n",
    "plt.xlabel('Video Views', fontsize = 12)\n",
    "plt.ylabel('Subscribers', fontsize = 12)\n",
    "plt.show()"
   ]
  },
  {
   "cell_type": "code",
   "execution_count": 12,
   "metadata": {
    "colab": {
     "base_uri": "https://localhost:8080/",
     "height": 110
    },
    "colab_type": "code",
    "id": "VYDblZXjh1Jv",
    "outputId": "4a1d205d-bfc7-462d-b0a3-a1abdbb466c2"
   },
   "outputs": [
    {
     "data": {
      "text/html": [
       "<div>\n",
       "<style scoped>\n",
       "    .dataframe tbody tr th:only-of-type {\n",
       "        vertical-align: middle;\n",
       "    }\n",
       "\n",
       "    .dataframe tbody tr th {\n",
       "        vertical-align: top;\n",
       "    }\n",
       "\n",
       "    .dataframe thead th {\n",
       "        text-align: right;\n",
       "    }\n",
       "</style>\n",
       "<table border=\"1\" class=\"dataframe\">\n",
       "  <thead>\n",
       "    <tr style=\"text-align: right;\">\n",
       "      <th></th>\n",
       "      <th>Subscribers</th>\n",
       "      <th>views</th>\n",
       "    </tr>\n",
       "  </thead>\n",
       "  <tbody>\n",
       "    <tr>\n",
       "      <th>Subscribers</th>\n",
       "      <td>1.000000</td>\n",
       "      <td>0.791241</td>\n",
       "    </tr>\n",
       "    <tr>\n",
       "      <th>views</th>\n",
       "      <td>0.791241</td>\n",
       "      <td>1.000000</td>\n",
       "    </tr>\n",
       "  </tbody>\n",
       "</table>\n",
       "</div>"
      ],
      "text/plain": [
       "             Subscribers     views\n",
       "Subscribers     1.000000  0.791241\n",
       "views           0.791241  1.000000"
      ]
     },
     "execution_count": 12,
     "metadata": {},
     "output_type": "execute_result"
    }
   ],
   "source": [
    "df_subViews = pd.DataFrame(df_youtube, columns = ['Subscribers', 'views'])\n",
    "df_subViews.corr()"
   ]
  },
  {
   "cell_type": "code",
   "execution_count": 13,
   "metadata": {
    "colab": {
     "base_uri": "https://localhost:8080/",
     "height": 110
    },
    "colab_type": "code",
    "id": "J_gLbVmCh1J0",
    "outputId": "b401359e-d281-447d-a6ec-07da6e6bc2b8"
   },
   "outputs": [
    {
     "data": {
      "text/html": [
       "<div>\n",
       "<style scoped>\n",
       "    .dataframe tbody tr th:only-of-type {\n",
       "        vertical-align: middle;\n",
       "    }\n",
       "\n",
       "    .dataframe tbody tr th {\n",
       "        vertical-align: top;\n",
       "    }\n",
       "\n",
       "    .dataframe thead th {\n",
       "        text-align: right;\n",
       "    }\n",
       "</style>\n",
       "<table border=\"1\" class=\"dataframe\">\n",
       "  <thead>\n",
       "    <tr style=\"text-align: right;\">\n",
       "      <th></th>\n",
       "      <th>views</th>\n",
       "      <th>Subscribers</th>\n",
       "    </tr>\n",
       "  </thead>\n",
       "  <tbody>\n",
       "    <tr>\n",
       "      <th>views</th>\n",
       "      <td>1.000000</td>\n",
       "      <td>0.791241</td>\n",
       "    </tr>\n",
       "    <tr>\n",
       "      <th>Subscribers</th>\n",
       "      <td>0.791241</td>\n",
       "      <td>1.000000</td>\n",
       "    </tr>\n",
       "  </tbody>\n",
       "</table>\n",
       "</div>"
      ],
      "text/plain": [
       "                views  Subscribers\n",
       "views        1.000000     0.791241\n",
       "Subscribers  0.791241     1.000000"
      ]
     },
     "execution_count": 13,
     "metadata": {},
     "output_type": "execute_result"
    }
   ],
   "source": [
    "df_viewsSubs = pd.DataFrame(df_youtube, columns = ['views', 'Subscribers'])\n",
    "df_viewsSubs.corr()"
   ]
  },
  {
   "cell_type": "markdown",
   "metadata": {
    "colab_type": "text",
    "id": "MWmWpLD4h1J6"
   },
   "source": [
    "To reiterate, both video views and subscribers appear to be directly correlated with each other given the scatter plot as well as the correlation value being near 1. This can mean that video views can potentially predict the number of subscribers that a channel has, and vice versa. "
   ]
  },
  {
   "cell_type": "markdown",
   "metadata": {
    "colab_type": "text",
    "id": "nTwwUAtsh1J8"
   },
   "source": [
    "### Bar Chart & Histograms"
   ]
  },
  {
   "cell_type": "code",
   "execution_count": 14,
   "metadata": {
    "colab": {
     "base_uri": "https://localhost:8080/",
     "height": 386
    },
    "colab_type": "code",
    "id": "n6Ofp9Jzh1J_",
    "outputId": "873e7297-9109-4846-ea4a-6ff270736dbe"
   },
   "outputs": [
    {
     "data": {
      "image/png": "[encoded data removed]",
      "text/plain": [
       "<Figure size 432x288 with 1 Axes>"
      ]
     },
     "metadata": {
      "needs_background": "light"
     },
     "output_type": "display_data"
    }
   ],
   "source": [
    "grades = df_youtube['Grade'].value_counts().plot(kind = 'bar')\n",
    "plt.title('Grades of YouTube Channels - Based on SocialBlade')\n",
    "plt.xlabel('SocialBlade Grades', fontsize = 12)\n",
    "plt.ylabel('Number of Grades', fontsize = 12)\n",
    "plt.show()"
   ]
  },
  {
   "cell_type": "markdown",
   "metadata": {
    "colab_type": "text",
    "id": "OHEnJhaSh1KF"
   },
   "source": [
    "In this bar chart, we can see that there are large amount of channels in which SocialBlade has graded with a B+. On the other hand, there are not many channels with a grade of A++ or A+. This puts into perspective that it can be difficult to achieve a channel grade of A++. \n",
    "\n",
    "Because of this, our team wanted to see the distribution of each variable to find certain patterns. "
   ]
  },
  {
   "cell_type": "code",
   "execution_count": 15,
   "metadata": {
    "colab": {
     "base_uri": "https://localhost:8080/",
     "height": 1095
    },
    "colab_type": "code",
    "id": "qaqAHFwxh1KH",
    "outputId": "7e688832-8a48-468d-e181-9f2ea79530c8"
   },
   "outputs": [
    {
     "data": {
      "image/png": "[encoded data removed]",
      "text/plain": [
       "<Figure size 432x288 with 1 Axes>"
      ]
     },
     "metadata": {
      "needs_background": "light"
     },
     "output_type": "display_data"
    },
    {
     "data": {
      "image/png": "[encoded data removed]",
      "text/plain": [
       "<Figure size 432x288 with 1 Axes>"
      ]
     },
     "metadata": {
      "needs_background": "light"
     },
     "output_type": "display_data"
    },
    {
     "data": {
      "image/png": "[encoded data removed]",
      "text/plain": [
       "<Figure size 432x288 with 1 Axes>"
      ]
     },
     "metadata": {
      "needs_background": "light"
     },
     "output_type": "display_data"
    }
   ],
   "source": [
    "df_uploads = df_youtube['video_uploads'].hist(bins = 100)\n",
    "plt.title('Video Uploads', fontweight = 'bold')\n",
    "plt.xlabel('Number of Video Uploads')\n",
    "plt.ylabel('Number of Channels')\n",
    "plt.xlim(0,20000)\n",
    "plt.show()\n",
    "\n",
    "df_subscribers = df_youtube['Subscribers'].hist(bins = 100)\n",
    "plt.title('Subscribers', fontweight = 'bold')\n",
    "plt.xlabel('Number of Subscribers')\n",
    "plt.ylabel('Number of Channels')\n",
    "plt.show()\n",
    "\n",
    "df_views = df_youtube['views'].hist(bins = 100)\n",
    "plt.title('Video Views', fontweight = 'bold')\n",
    "plt.xlabel('Number of Video Views')\n",
    "plt.ylabel('Number of Channels')\n",
    "plt.show()"
   ]
  },
  {
   "cell_type": "markdown",
   "metadata": {},
   "source": [
    "After visualizing the data, we found that the data variables are all strongly skewed to the left. In order to normalize the data, we decided to take the log for each variable. "
   ]
  },
  {
   "cell_type": "code",
   "execution_count": 16,
   "metadata": {
    "colab": {
     "base_uri": "https://localhost:8080/",
     "height": 1095
    },
    "colab_type": "code",
    "id": "VHiJKE2Ih1KO",
    "outputId": "f83b7615-d919-4603-807a-9d53472c7e07"
   },
   "outputs": [
    {
     "data": {
      "image/png": "[encoded data removed]",
      "text/plain": [
       "<Figure size 432x288 with 1 Axes>"
      ]
     },
     "metadata": {
      "needs_background": "light"
     },
     "output_type": "display_data"
    },
    {
     "data": {
      "image/png": "[encoded data removed]",
      "text/plain": [
       "<Figure size 432x288 with 1 Axes>"
      ]
     },
     "metadata": {
      "needs_background": "light"
     },
     "output_type": "display_data"
    },
    {
     "data": {
      "image/png": "[encoded data removed]",
      "text/plain": [
       "<Figure size 432x288 with 1 Axes>"
      ]
     },
     "metadata": {
      "needs_background": "light"
     },
     "output_type": "display_data"
    }
   ],
   "source": [
    "df_uploadLog = np.log(df_youtube['video_uploads']).hist(bins = 75)\n",
    "plt.title('Video Uploads: Log Transformation', fontweight = 'bold')\n",
    "plt.xlabel('Number of Video Uploads')\n",
    "plt.ylabel('Number of Channels')\n",
    "plt.show()\n",
    "\n",
    "df_subsLog = np.log(df_youtube['Subscribers']).hist(bins = 75)\n",
    "plt.title('Subscribers: Log Transformation', fontweight = 'bold')\n",
    "plt.xlabel('Number of Subscribers')\n",
    "plt.ylabel('Number of Channels')\n",
    "plt.show() \n",
    "\n",
    "df_viewsLog = np.log(df_youtube['views']).hist(bins = 75)\n",
    "plt.title('Video Views: Log Transformation', fontweight = 'bold')\n",
    "plt.xlabel('Number of Video Views')\n",
    "plt.ylabel('Number of Channels')\n",
    "plt.show()"
   ]
  },
  {
   "cell_type": "markdown",
   "metadata": {},
   "source": [
    "The data now looks normal now. However, we cannot be too sure. We will further explore this using other tests and visualizations. "
   ]
  },
  {
   "cell_type": "markdown",
   "metadata": {
    "colab_type": "text",
    "id": "8Z4qqq_Ih1KS"
   },
   "source": [
    "### Exploring the Data"
   ]
  },
  {
   "cell_type": "markdown",
   "metadata": {
    "colab_type": "text",
    "id": "uL0i0eoIh1KT"
   },
   "source": [
    "To get a 'feel' for the data and see if there are any inconsistencies or oddities in the data, we will explore the dataset."
   ]
  },
  {
   "cell_type": "markdown",
   "metadata": {
    "colab_type": "text",
    "id": "F4HZyL35h1KU"
   },
   "source": [
    "### Range of Video Uploads"
   ]
  },
  {
   "cell_type": "markdown",
   "metadata": {
    "colab_type": "text",
    "id": "QOOFTwthh1KV"
   },
   "source": [
    "We want to know the maximum and minimum number of video uploads as well as the range of video uploads."
   ]
  },
  {
   "cell_type": "code",
   "execution_count": 17,
   "metadata": {
    "colab": {
     "base_uri": "https://localhost:8080/",
     "height": 69
    },
    "colab_type": "code",
    "id": "JmKDDpdZh1KX",
    "outputId": "154f5fc4-c80d-4f1c-bc01-ad28778b26a9"
   },
   "outputs": [
    {
     "name": "stdout",
     "output_type": "stream",
     "text": [
      "Maximum Uploads: 422326.0\n",
      "Minimum Uploads: 1.0\n",
      "Range: 422325.0\n"
     ]
    }
   ],
   "source": [
    "max_uploads = max(df_youtube['video_uploads'])\n",
    "print(\"Maximum Uploads:\", max_uploads)\n",
    "min_uploads = min(df_youtube['video_uploads'])\n",
    "print(\"Minimum Uploads:\", min_uploads)\n",
    "r_uploads = max_uploads - min_uploads\n",
    "print(\"Range:\", r_uploads)"
   ]
  },
  {
   "cell_type": "markdown",
   "metadata": {
    "colab_type": "text",
    "id": "qf2Dttlmh1Kc"
   },
   "source": [
    "### Range of Subscribers"
   ]
  },
  {
   "cell_type": "markdown",
   "metadata": {
    "colab_type": "text",
    "id": "pT-kroO2h1Kd"
   },
   "source": [
    "We want to know the maximum and minimum number of subscribers as well as the range of subscribers."
   ]
  },
  {
   "cell_type": "code",
   "execution_count": 18,
   "metadata": {
    "colab": {
     "base_uri": "https://localhost:8080/",
     "height": 69
    },
    "colab_type": "code",
    "id": "8P33NIzOh1Ke",
    "outputId": "3290cc3e-915a-47a8-9db8-79907aedbd4d"
   },
   "outputs": [
    {
     "name": "stdout",
     "output_type": "stream",
     "text": [
      "Maximum Subscribers: 65995310.0\n",
      "Minimum Subscribers: 301.0\n",
      "Range: 65995009.0\n"
     ]
    }
   ],
   "source": [
    "max_sub = max(df_youtube['Subscribers'])\n",
    "print(\"Maximum Subscribers:\", max_sub)\n",
    "min_sub = min(df_youtube['Subscribers'])\n",
    "print(\"Minimum Subscribers:\", min_sub)\n",
    "r_sub = max_sub - min_sub\n",
    "print(\"Range:\", r_sub)"
   ]
  },
  {
   "cell_type": "markdown",
   "metadata": {
    "colab_type": "text",
    "id": "igmhheuZh1Ki"
   },
   "source": [
    "### Range of Video Views"
   ]
  },
  {
   "cell_type": "markdown",
   "metadata": {
    "colab_type": "text",
    "id": "pfL6h3iwh1Kj"
   },
   "source": [
    "We want to know the maximum and minimum number of video views as well as the range of video views."
   ]
  },
  {
   "cell_type": "code",
   "execution_count": 19,
   "metadata": {
    "colab": {
     "base_uri": "https://localhost:8080/",
     "height": 69
    },
    "colab_type": "code",
    "id": "G2J_EaYKh1Kl",
    "outputId": "87e6f834-8bad-4b01-cd0c-96341d3e7a06"
   },
   "outputs": [
    {
     "name": "stdout",
     "output_type": "stream",
     "text": [
      "Maximum Views: 47548839843\n",
      "Minimum Views: 75\n",
      "Range: 47548839768\n"
     ]
    }
   ],
   "source": [
    "max_views = max(df_youtube['views'])\n",
    "print(\"Maximum Views:\", max_views)\n",
    "min_views = min(df_youtube['views'])\n",
    "print(\"Minimum Views:\", min_views)\n",
    "r_views = max_views - min_views\n",
    "print(\"Range:\", r_views)"
   ]
  },
  {
   "cell_type": "markdown",
   "metadata": {
    "colab_type": "text",
    "id": "l5nldn14h1Kr"
   },
   "source": [
    "### Normal Test"
   ]
  },
  {
   "cell_type": "markdown",
   "metadata": {
    "colab_type": "text",
    "id": "aC7nz0YQh1Kt"
   },
   "source": [
    "Since the data is left skewed, we used log transformations."
   ]
  },
  {
   "cell_type": "code",
   "execution_count": 20,
   "metadata": {
    "colab": {},
    "colab_type": "code",
    "id": "NVFHD2USh1Kv"
   },
   "outputs": [],
   "source": [
    "df_Log = pd.DataFrame()\n",
    "df_Log['Video Uploads Log'] = np.log(df_youtube['video_uploads'])\n",
    "df_Log['Subscribers Log'] = np.log(df_youtube['Subscribers'])\n",
    "df_Log['Video Views Log'] = np.log(df_youtube['views'])\n"
   ]
  },
  {
   "cell_type": "markdown",
   "metadata": {
    "colab_type": "text",
    "id": "LqkMwGyXh1K0"
   },
   "source": [
    "Using the 'normaltest' function, we test for normality of the distribution. If our data is normal, it is valid for us make the assumption that the data is normal when using other methods and statistical tests."
   ]
  },
  {
   "cell_type": "code",
   "execution_count": 21,
   "metadata": {
    "colab": {},
    "colab_type": "code",
    "id": "ehs0dTMHh1K1"
   },
   "outputs": [],
   "source": [
    "#Pulling out the different sets of data to test\n",
    "uploadLog_vals = df_Log['Video Uploads Log'].values\n",
    "subsLog_vals = df_Log['Subscribers Log'].values\n",
    "viewsLog_vals = df_Log['Video Views Log'].values"
   ]
  },
  {
   "cell_type": "markdown",
   "metadata": {
    "colab_type": "text",
    "id": "9KrfJSTih1K7"
   },
   "source": [
    "By using the normaltest function, we get the test statistic and p-values for the distribution of uploads, subscribers, and views."
   ]
  },
  {
   "cell_type": "code",
   "execution_count": 22,
   "metadata": {
    "colab": {},
    "colab_type": "code",
    "id": "HbbTMm7kh1K9"
   },
   "outputs": [],
   "source": [
    "st_uploadLog, p_uploadLog = normaltest(uploadLog_vals)\n",
    "st_subsLog, p_subsLog = normaltest(subsLog_vals)\n",
    "st_viewsLog, p_viewsLog = normaltest(viewsLog_vals)"
   ]
  },
  {
   "cell_type": "markdown",
   "metadata": {
    "colab_type": "text",
    "id": "SC5PZxOQh1LG"
   },
   "source": [
    "To determine if our data sets are normal, we have decided on an alpha significance value of 0.01. \n",
    "\n",
    "If the p value is less than our alpha, then we do not reject the null hypothesis, suggesting that data set is normally distributed.\n",
    "\n",
    "If the p value is greater than our alpha, then we reject the null hypothesis, suggesting that data set is not normally distributed."
   ]
  },
  {
   "cell_type": "code",
   "execution_count": 23,
   "metadata": {
    "colab": {
     "base_uri": "https://localhost:8080/",
     "height": 189
    },
    "colab_type": "code",
    "id": "v3fEzVeth1LI",
    "outputId": "dd9597e8-1759-41b3-d6fd-e94f7832fada"
   },
   "outputs": [
    {
     "name": "stdout",
     "output_type": "stream",
     "text": [
      "Normaltest p_uploadLog p value is: 5.66e-16\n",
      "Normaltest p_subsLog p value is: 1.83e-203\n",
      "Normaltest p_viewsLog p value is: 1.09e-219 \n",
      "\n",
      "Video Uploads: \n",
      "Do not reject null hypothesis. Data is normally distributed.\n",
      "Subscribers: \n",
      "Do not reject null hypothesis. Data is normally distributed.\n",
      "Video Views: \n",
      "Do not reject null hypothesis. Data is normally distributed.\n"
     ]
    }
   ],
   "source": [
    "print('Normaltest p_uploadLog p value is: {:1.2e}'. format(p_uploadLog))\n",
    "print('Normaltest p_subsLog p value is: {:1.2e}'. format(p_subsLog))\n",
    "print('Normaltest p_viewsLog p value is: {:1.2e} \\n'. format(p_viewsLog))\n",
    "\n",
    "def check_p_val(p_val, alpha):\n",
    "    if p_val < alpha:\n",
    "        print('Do not reject null hypothesis. Data is normally distributed.')\n",
    "        return False \n",
    "    else:\n",
    "        print('Reject null hypothesis. Data is not normally distributed.')\n",
    "        return True\n",
    "\n",
    "print(\"Video Uploads: \")\n",
    "is_n_upload = check_p_val(p_uploadLog, alpha=0.01)\n",
    "print(\"Subscribers: \")\n",
    "is_n_subs = check_p_val(p_subsLog, alpha=0.01)\n",
    "print(\"Video Views: \")\n",
    "is_n_views = check_p_val(p_viewsLog, alpha=0.01)"
   ]
  },
  {
   "cell_type": "markdown",
   "metadata": {
    "colab_type": "text",
    "id": "G3mXlpWEh1LR"
   },
   "source": [
    "Plot of the comparison between the video upload log data and a normal distribution."
   ]
  },
  {
   "cell_type": "code",
   "execution_count": 24,
   "metadata": {
    "colab": {
     "base_uri": "https://localhost:8080/",
     "height": 414
    },
    "colab_type": "code",
    "id": "3naL1qGnh1LS",
    "outputId": "86ad9bf1-7501-4bfc-d672-9f24a322eee3"
   },
   "outputs": [
    {
     "name": "stderr",
     "output_type": "stream",
     "text": [
      "C:\\Users\\Lereanne\\Anaconda3\\lib\\site-packages\\matplotlib\\axes\\_axes.py:6521: MatplotlibDeprecationWarning: \n",
      "The 'normed' kwarg was deprecated in Matplotlib 2.1 and will be removed in 3.1. Use 'density' instead.\n",
      "  alternative=\"'density'\", removal=\"3.1\")\n"
     ]
    },
    {
     "data": {
      "image/png": "[encoded data removed]",
      "text/plain": [
       "<Figure size 432x288 with 1 Axes>"
      ]
     },
     "metadata": {
      "needs_background": "light"
     },
     "output_type": "display_data"
    }
   ],
   "source": [
    "#  This plots a histogram, with the hypothetical normal distribution (with same mean and variance)\n",
    "xs = np.arange(uploadLog_vals.min(), uploadLog_vals.max(), 0.1)\n",
    "fit = stats.norm.pdf(xs, np.mean(uploadLog_vals), np.std(uploadLog_vals))\n",
    "plt.plot(xs, fit, label='Normal Dist.', lw=4)\n",
    "plt.hist(uploadLog_vals, normed=True, label='Actual Data');\n",
    "plt.title('Video Uploads Log')\n",
    "plt.legend();"
   ]
  },
  {
   "cell_type": "markdown",
   "metadata": {
    "colab_type": "text",
    "id": "ki7HjJJOh1Lb"
   },
   "source": [
    "Plot of the comparison between the subscriber log data and a normal distribution."
   ]
  },
  {
   "cell_type": "code",
   "execution_count": 25,
   "metadata": {
    "colab": {
     "base_uri": "https://localhost:8080/",
     "height": 414
    },
    "colab_type": "code",
    "id": "Y3xtgayXh1Ld",
    "outputId": "1e3b6359-7af1-475e-e5d2-d0670b97f680"
   },
   "outputs": [
    {
     "name": "stderr",
     "output_type": "stream",
     "text": [
      "C:\\Users\\Lereanne\\Anaconda3\\lib\\site-packages\\matplotlib\\axes\\_axes.py:6521: MatplotlibDeprecationWarning: \n",
      "The 'normed' kwarg was deprecated in Matplotlib 2.1 and will be removed in 3.1. Use 'density' instead.\n",
      "  alternative=\"'density'\", removal=\"3.1\")\n"
     ]
    },
    {
     "data": {
      "image/png": "[encoded data removed]",
      "text/plain": [
       "<Figure size 432x288 with 1 Axes>"
      ]
     },
     "metadata": {
      "needs_background": "light"
     },
     "output_type": "display_data"
    }
   ],
   "source": [
    "#  This plots a histogram, with the hypothetical normal distribution (with same mean and variance)\n",
    "xs = np.arange(subsLog_vals.min(), subsLog_vals.max(), 0.1)\n",
    "fit = stats.norm.pdf(xs, np.mean(subsLog_vals), np.std(subsLog_vals))\n",
    "plt.plot(xs, fit, label='Normal Dist.', lw=4)\n",
    "plt.hist(subsLog_vals, normed=True, label='Actual Data');\n",
    "plt.title('Subscribers Log')\n",
    "plt.legend();"
   ]
  },
  {
   "cell_type": "markdown",
   "metadata": {
    "colab_type": "text",
    "id": "POUJGR9Ph1Lk"
   },
   "source": [
    "Plot of the comparison between the video view log data and a normal distribution."
   ]
  },
  {
   "cell_type": "code",
   "execution_count": 26,
   "metadata": {
    "colab": {
     "base_uri": "https://localhost:8080/",
     "height": 414
    },
    "colab_type": "code",
    "id": "eFskBNjLh1Ll",
    "outputId": "fee8294e-4606-4e29-86c3-f9ca04059093"
   },
   "outputs": [
    {
     "name": "stderr",
     "output_type": "stream",
     "text": [
      "C:\\Users\\Lereanne\\Anaconda3\\lib\\site-packages\\matplotlib\\axes\\_axes.py:6521: MatplotlibDeprecationWarning: \n",
      "The 'normed' kwarg was deprecated in Matplotlib 2.1 and will be removed in 3.1. Use 'density' instead.\n",
      "  alternative=\"'density'\", removal=\"3.1\")\n"
     ]
    },
    {
     "data": {
      "image/png": "[encoded data removed]",
      "text/plain": [
       "<Figure size 432x288 with 1 Axes>"
      ]
     },
     "metadata": {
      "needs_background": "light"
     },
     "output_type": "display_data"
    }
   ],
   "source": [
    "#  This plots a histogram, with the hypothetical normal distribution (with same mean and variance)\n",
    "xs = np.arange(viewsLog_vals.min(), viewsLog_vals.max(), 0.1)\n",
    "fit = stats.norm.pdf(xs, np.mean(viewsLog_vals), np.std(viewsLog_vals))\n",
    "plt.plot(xs, fit, label='Normal Dist.', lw=4)\n",
    "plt.hist(viewsLog_vals, normed=True, label='Actual Data');\n",
    "plt.title('Video Views Log')\n",
    "plt.legend();"
   ]
  },
  {
   "cell_type": "markdown",
   "metadata": {
    "colab_type": "text",
    "id": "ZXU_40-mh1Lq"
   },
   "source": [
    "### Data Analysis & Results"
   ]
  },
  {
   "cell_type": "markdown",
   "metadata": {},
   "source": [
    "Since the subscribers and views look correlated, we use Pearson's R to see if the relationship is significant."
   ]
  },
  {
   "cell_type": "code",
   "execution_count": 27,
   "metadata": {
    "colab": {
     "base_uri": "https://localhost:8080/",
     "height": 51
    },
    "colab_type": "code",
    "id": "QjnYB7KLh1Lr",
    "outputId": "21b53c69-f9fb-47cb-e75b-14cac18c48a6"
   },
   "outputs": [
    {
     "name": "stdout",
     "output_type": "stream",
     "text": [
      "R: 0.7912411514219986\n",
      "p-value: 0.0\n"
     ]
    }
   ],
   "source": [
    "corr_result = stats.pearsonr(df_youtube['Subscribers'],df_youtube['views'])\n",
    "print(\"R:\", corr_result[0])\n",
    "print(\"p-value:\", corr_result[1])"
   ]
  },
  {
   "cell_type": "markdown",
   "metadata": {
    "colab_type": "text",
    "id": "n_aqUVLmlp_p"
   },
   "source": [
    "As the p-value is smaller than 0.05, it is most likely even smaller than 0.01, considering that the result is 0.0. We can then conclude that the they have a significantly strong correlation."
   ]
  },
  {
   "cell_type": "markdown",
   "metadata": {
    "colab_type": "text",
    "id": "bQNpPGU5l0m6"
   },
   "source": [
    "#### Predicting number of subscribers based on other factors"
   ]
  },
  {
   "cell_type": "markdown",
   "metadata": {
    "colab_type": "text",
    "id": "de98iX_umErP"
   },
   "source": [
    "We will try to use a different regression model to see what are some good predictors for the subscribers to further come up with efficient conclusions."
   ]
  },
  {
   "cell_type": "code",
   "execution_count": 28,
   "metadata": {
    "colab": {},
    "colab_type": "code",
    "id": "F9phmvjmmG-v"
   },
   "outputs": [],
   "source": [
    "outcome_1, predictors_1 = patsy.dmatrices('Subscribers ~ video_uploads', df_youtube)\n",
    "mod1 = sm.OLS(outcome_1, predictors_1)\n",
    "res1 = mod1.fit()"
   ]
  },
  {
   "cell_type": "code",
   "execution_count": 29,
   "metadata": {
    "colab": {
     "base_uri": "https://localhost:8080/",
     "height": 481
    },
    "colab_type": "code",
    "id": "IPhWPrpSmU3L",
    "outputId": "1070808e-f8f4-4648-b111-dca562da1513"
   },
   "outputs": [
    {
     "name": "stdout",
     "output_type": "stream",
     "text": [
      "                            OLS Regression Results                            \n",
      "==============================================================================\n",
      "Dep. Variable:            Subscribers   R-squared:                       0.000\n",
      "Model:                            OLS   Adj. R-squared:                 -0.000\n",
      "Method:                 Least Squares   F-statistic:                    0.5950\n",
      "Date:                Thu, 21 Mar 2019   Prob (F-statistic):              0.441\n",
      "Time:                        19:51:52   Log-Likelihood:                -76536.\n",
      "No. Observations:                4610   AIC:                         1.531e+05\n",
      "Df Residuals:                    4608   BIC:                         1.531e+05\n",
      "Df Model:                           1                                         \n",
      "Covariance Type:            nonrobust                                         \n",
      "=================================================================================\n",
      "                    coef    std err          t      P>|t|      [0.025      0.975]\n",
      "---------------------------------------------------------------------------------\n",
      "Intercept      2.611e+06   5.94e+04     43.989      0.000    2.49e+06    2.73e+06\n",
      "video_uploads     2.5173      3.264      0.771      0.441      -3.881       8.915\n",
      "==============================================================================\n",
      "Omnibus:                     4592.626   Durbin-Watson:                   1.379\n",
      "Prob(Omnibus):                  0.000   Jarque-Bera (JB):           331898.601\n",
      "Skew:                           4.776   Prob(JB):                         0.00\n",
      "Kurtosis:                      43.456   Cond. No.                     1.87e+04\n",
      "==============================================================================\n",
      "\n",
      "Warnings:\n",
      "[1] Standard Errors assume that the covariance matrix of the errors is correctly specified.\n",
      "[2] The condition number is large, 1.87e+04. This might indicate that there are\n",
      "strong multicollinearity or other numerical problems.\n"
     ]
    }
   ],
   "source": [
    "print(res1.summary())"
   ]
  },
  {
   "cell_type": "markdown",
   "metadata": {},
   "source": [
    "The p-value is 0.441. 0.441 is > 0.05, which indicates that there is no significant relationship between video uploads and number of subscribers. "
   ]
  },
  {
   "cell_type": "code",
   "execution_count": 30,
   "metadata": {
    "colab": {
     "base_uri": "https://localhost:8080/",
     "height": 365
    },
    "colab_type": "code",
    "id": "UGKEyw_ZmYQq",
    "outputId": "0a527063-b0e6-43fe-8ecf-cbb234f0a697"
   },
   "outputs": [
    {
     "name": "stderr",
     "output_type": "stream",
     "text": [
      "C:\\Users\\Lereanne\\Anaconda3\\lib\\site-packages\\scipy\\stats\\stats.py:1713: FutureWarning: Using a non-tuple sequence for multidimensional indexing is deprecated; use `arr[tuple(seq)]` instead of `arr[seq]`. In the future this will be interpreted as an array index, `arr[np.array(seq)]`, which will result either in an error or a different result.\n",
      "  return np.add.reduce(sorted[indexer] * weights, axis=axis) / sumval\n"
     ]
    },
    {
     "data": {
      "image/png": "[encoded data removed]",
      "text/plain": [
       "<Figure size 360x360 with 1 Axes>"
      ]
     },
     "metadata": {
      "needs_background": "light"
     },
     "output_type": "display_data"
    }
   ],
   "source": [
    "fig=sns.lmplot(x='video_uploads',y='Subscribers',data=df_youtube,fit_reg=True) \n",
    "fig.set(xlim=(40000, None))\n",
    "fig.set(ylim=(40000,None))\n",
    "plt.show()"
   ]
  },
  {
   "cell_type": "markdown",
   "metadata": {},
   "source": [
    "Next, we will try to predict subscribers using video views."
   ]
  },
  {
   "cell_type": "code",
   "execution_count": 31,
   "metadata": {
    "colab": {},
    "colab_type": "code",
    "id": "LsxyGqS0mZ3h"
   },
   "outputs": [],
   "source": [
    "outcome_2, predictors_2 = patsy.dmatrices('Subscribers ~ views', df_youtube)\n",
    "mod2 = sm.OLS(outcome_2, predictors_2)\n",
    "res2 = mod2.fit()"
   ]
  },
  {
   "cell_type": "code",
   "execution_count": 32,
   "metadata": {},
   "outputs": [
    {
     "name": "stdout",
     "output_type": "stream",
     "text": [
      "                            OLS Regression Results                            \n",
      "==============================================================================\n",
      "Dep. Variable:            Subscribers   R-squared:                       0.626\n",
      "Model:                            OLS   Adj. R-squared:                  0.626\n",
      "Method:                 Least Squares   F-statistic:                     7715.\n",
      "Date:                Thu, 21 Mar 2019   Prob (F-statistic):               0.00\n",
      "Time:                        19:51:59   Log-Likelihood:                -74269.\n",
      "No. Observations:                4610   AIC:                         1.485e+05\n",
      "Df Residuals:                    4608   BIC:                         1.486e+05\n",
      "Df Model:                           1                                         \n",
      "Covariance Type:            nonrobust                                         \n",
      "==============================================================================\n",
      "                 coef    std err          t      P>|t|      [0.025      0.975]\n",
      "------------------------------------------------------------------------------\n",
      "Intercept   9.115e+05   4.04e+04     22.575      0.000    8.32e+05    9.91e+05\n",
      "views          0.0015   1.71e-05     87.835      0.000       0.001       0.002\n",
      "==============================================================================\n",
      "Omnibus:                     3872.010   Durbin-Watson:                   1.851\n",
      "Prob(Omnibus):                  0.000   Jarque-Bera (JB):           332819.180\n",
      "Skew:                           3.501   Prob(JB):                         0.00\n",
      "Kurtosis:                      44.032   Cond. No.                     2.70e+09\n",
      "==============================================================================\n",
      "\n",
      "Warnings:\n",
      "[1] Standard Errors assume that the covariance matrix of the errors is correctly specified.\n",
      "[2] The condition number is large, 2.7e+09. This might indicate that there are\n",
      "strong multicollinearity or other numerical problems.\n"
     ]
    }
   ],
   "source": [
    "print(res2.summary())"
   ]
  },
  {
   "cell_type": "code",
   "execution_count": 33,
   "metadata": {
    "colab": {
     "base_uri": "https://localhost:8080/",
     "height": 365
    },
    "colab_type": "code",
    "id": "2eTQodzPmcWE",
    "outputId": "d8b51b03-19b1-4f0f-e582-58c9e96ff698"
   },
   "outputs": [
    {
     "data": {
      "image/png": "[encoded data removed]",
      "text/plain": [
       "<Figure size 360x360 with 1 Axes>"
      ]
     },
     "metadata": {
      "needs_background": "light"
     },
     "output_type": "display_data"
    }
   ],
   "source": [
    "fig=sns.lmplot(x='views',y='Subscribers',data=df_youtube,fit_reg=True) \n",
    "fig.set(xlim=(40000, None))\n",
    "fig.set(ylim=(40000,None))\n",
    "plt.show()"
   ]
  },
  {
   "cell_type": "markdown",
   "metadata": {
    "colab_type": "text",
    "id": "qnafHYcRmgsy"
   },
   "source": [
    "According to the analysis above, the p-value for the number of video views is 0. With this, we know that this is a good predictor of subscibers. Furthermore, this also matches the result we got from the previous correlation."
   ]
  },
  {
   "cell_type": "code",
   "execution_count": 34,
   "metadata": {
    "colab": {},
    "colab_type": "code",
    "id": "pDZRkUMZmeJI"
   },
   "outputs": [],
   "source": [
    "outcome_3, predictors_3 = patsy.dmatrices('Subscribers ~ video_uploads + views', df_youtube)\n",
    "mod3 = sm.OLS(outcome_3, predictors_3)\n",
    "res3 = mod3.fit()"
   ]
  },
  {
   "cell_type": "code",
   "execution_count": 35,
   "metadata": {
    "colab": {
     "base_uri": "https://localhost:8080/",
     "height": 499
    },
    "colab_type": "code",
    "id": "vhT2YLOUmj3a",
    "outputId": "f933cb67-0d66-4e7a-a5d6-d028da2d51b1"
   },
   "outputs": [
    {
     "name": "stdout",
     "output_type": "stream",
     "text": [
      "                            OLS Regression Results                            \n",
      "==============================================================================\n",
      "Dep. Variable:            Subscribers   R-squared:                       0.629\n",
      "Model:                            OLS   Adj. R-squared:                  0.629\n",
      "Method:                 Least Squares   F-statistic:                     3913.\n",
      "Date:                Thu, 21 Mar 2019   Prob (F-statistic):               0.00\n",
      "Time:                        19:52:05   Log-Likelihood:                -74248.\n",
      "No. Observations:                4610   AIC:                         1.485e+05\n",
      "Df Residuals:                    4607   BIC:                         1.485e+05\n",
      "Df Model:                           2                                         \n",
      "Covariance Type:            nonrobust                                         \n",
      "=================================================================================\n",
      "                    coef    std err          t      P>|t|      [0.025      0.975]\n",
      "---------------------------------------------------------------------------------\n",
      "Intercept      9.534e+05   4.07e+04     23.420      0.000    8.74e+05    1.03e+06\n",
      "video_uploads   -12.9796      1.995     -6.507      0.000     -16.890      -9.069\n",
      "views             0.0015   1.71e-05     88.458      0.000       0.001       0.002\n",
      "==============================================================================\n",
      "Omnibus:                     3872.402   Durbin-Watson:                   1.855\n",
      "Prob(Omnibus):                  0.000   Jarque-Bera (JB):           337225.943\n",
      "Skew:                           3.497   Prob(JB):                         0.00\n",
      "Kurtosis:                      44.312   Cond. No.                     2.73e+09\n",
      "==============================================================================\n",
      "\n",
      "Warnings:\n",
      "[1] Standard Errors assume that the covariance matrix of the errors is correctly specified.\n",
      "[2] The condition number is large, 2.73e+09. This might indicate that there are\n",
      "strong multicollinearity or other numerical problems.\n"
     ]
    }
   ],
   "source": [
    "print(res3.summary())"
   ]
  },
  {
   "cell_type": "markdown",
   "metadata": {},
   "source": [
    "Interestingly, when we included both the number of video views and video uploads, the p-values are 0. Perhaps this is because of the interactions between the number of video views and video uploads. Knowing this, we can conclude that both of these variables are important to predict the number of subscribers."
   ]
  },
  {
   "cell_type": "markdown",
   "metadata": {
    "colab_type": "text",
    "id": "oimgTMqImoOX"
   },
   "source": [
    "#### T-Test\n",
    "\n",
    "Based on our hypothesis, we also wonder if there are any differences between the mean of subscribers, video uploads, and video views for the channels in different grades. If these do have some differences, they can become a guideline for aspiring creators when trying to increase their popularity and online presence. "
   ]
  },
  {
   "cell_type": "code",
   "execution_count": 36,
   "metadata": {
    "colab": {},
    "colab_type": "code",
    "id": "M6glRl0bmlRM"
   },
   "outputs": [],
   "source": [
    "sub_App = np.log(df_youtube[df_youtube['Grade'] == 'A++']['Subscribers'].values)\n",
    "sub_Ap =  np.log(df_youtube[df_youtube['Grade'] == 'A+']['Subscribers'].values)\n",
    "sub_A =  np.log(df_youtube[df_youtube['Grade'] == 'A']['Subscribers'].values)\n",
    "sub_Am =  np.log(df_youtube[df_youtube['Grade'] == 'A-']['Subscribers'].values)\n",
    "sub_Bp =  np.log(df_youtube[df_youtube['Grade'] == 'B+']['Subscribers'].values)"
   ]
  },
  {
   "cell_type": "code",
   "execution_count": 37,
   "metadata": {
    "colab": {},
    "colab_type": "code",
    "id": "1_muvGJ8mvHJ"
   },
   "outputs": [],
   "source": [
    "avg_sub_App = int(sub_App.mean())\n",
    "avg_sub_Ap = int(sub_Ap.mean())\n",
    "avg_sub_A = int(sub_A.mean())\n",
    "avg_sub_Am = int(sub_Am.mean())\n",
    "avg_sub_Bp = int(sub_Bp.mean())"
   ]
  },
  {
   "cell_type": "code",
   "execution_count": 38,
   "metadata": {
    "colab": {
     "base_uri": "https://localhost:8080/",
     "height": 103
    },
    "colab_type": "code",
    "id": "R1wIw9l8mwPT",
    "outputId": "875be3af-35a8-4a31-93bd-5a8100ccb753"
   },
   "outputs": [
    {
     "name": "stdout",
     "output_type": "stream",
     "text": [
      "Average subscribers in Grade A++ channel   16\n",
      "Average subscribers in Grade A+ channel    15\n",
      "Average subscribers in Grade A channel      14\n",
      "Average subscribers in Grade A- channel     14\n",
      "Average subscribers in Grade B- channel     13\n"
     ]
    }
   ],
   "source": [
    "print(\"Average subscribers in Grade A++ channel  \", avg_sub_App)\n",
    "print(\"Average subscribers in Grade A+ channel   \", avg_sub_Ap)\n",
    "print(\"Average subscribers in Grade A channel     \", avg_sub_A)\n",
    "print(\"Average subscribers in Grade A- channel    \", avg_sub_Am)\n",
    "print(\"Average subscribers in Grade B- channel    \", avg_sub_Bp)"
   ]
  },
  {
   "cell_type": "code",
   "execution_count": 39,
   "metadata": {
    "colab": {},
    "colab_type": "code",
    "id": "rVCCV6Xemxnt"
   },
   "outputs": [],
   "source": [
    "up_App = np.log(df_youtube[df_youtube['Grade'] == 'A++']['video_uploads'].values)\n",
    "up_Ap =  np.log(df_youtube[df_youtube['Grade'] == 'A+']['video_uploads'].values)\n",
    "up_A =  np.log(df_youtube[df_youtube['Grade'] == 'A']['video_uploads'].values)\n",
    "up_Am =  np.log(df_youtube[df_youtube['Grade'] == 'A-']['video_uploads'].values)\n",
    "up_Bp =  np.log(df_youtube[df_youtube['Grade'] == 'B+']['video_uploads'].values)"
   ]
  },
  {
   "cell_type": "code",
   "execution_count": 40,
   "metadata": {
    "colab": {},
    "colab_type": "code",
    "id": "vuehlZynm1MS"
   },
   "outputs": [],
   "source": [
    "avg_up_App = int(up_App.mean())\n",
    "avg_up_Ap = int(up_Ap.mean())\n",
    "avg_up_A = int(up_A.mean())\n",
    "avg_up_Am = int(up_Am.mean())\n",
    "avg_up_Bp = int(up_Bp.mean())"
   ]
  },
  {
   "cell_type": "code",
   "execution_count": 41,
   "metadata": {
    "colab": {
     "base_uri": "https://localhost:8080/",
     "height": 103
    },
    "colab_type": "code",
    "id": "U-D98Nzem4KE",
    "outputId": "1c3e4537-4305-43a1-fb69-344d475979ef"
   },
   "outputs": [
    {
     "name": "stdout",
     "output_type": "stream",
     "text": [
      "Average video uploads in Grade A++ channel   9\n",
      "Average video uploads in Grade A+ channel    7\n",
      "Average video uploads in Grade A channel      6\n",
      "Average video uploads in Grade A- channel     6\n",
      "Average video uploads in Grade B+ channel     6\n"
     ]
    }
   ],
   "source": [
    "print(\"Average video uploads in Grade A++ channel  \", avg_up_App)\n",
    "print(\"Average video uploads in Grade A+ channel   \", avg_up_Ap)\n",
    "print(\"Average video uploads in Grade A channel     \", avg_up_A)\n",
    "print(\"Average video uploads in Grade A- channel    \", avg_up_Am)\n",
    "print(\"Average video uploads in Grade B+ channel    \", avg_up_Bp)"
   ]
  },
  {
   "cell_type": "code",
   "execution_count": 42,
   "metadata": {
    "colab": {},
    "colab_type": "code",
    "id": "VreWWAO1m6bP"
   },
   "outputs": [],
   "source": [
    "view_App = np.log(df_youtube[df_youtube['Grade'] == 'A++']['views'].values)\n",
    "view_Ap =  np.log(df_youtube[df_youtube['Grade'] == 'A+']['views'].values)\n",
    "view_A =  np.log(df_youtube[df_youtube['Grade'] == 'A']['views'].values)\n",
    "view_Am =  np.log(df_youtube[df_youtube['Grade'] == 'A-']['views'].values)\n",
    "view_Bp =  np.log(df_youtube[df_youtube['Grade'] == 'B+']['views'].values)"
   ]
  },
  {
   "cell_type": "code",
   "execution_count": 43,
   "metadata": {
    "colab": {},
    "colab_type": "code",
    "id": "tBINvEUynGAM"
   },
   "outputs": [],
   "source": [
    "avg_view_App = int(view_App.mean())\n",
    "avg_view_Ap = int(view_Ap.mean())\n",
    "avg_view_A = int(view_A.mean())\n",
    "avg_view_Am = int(view_Am.mean())\n",
    "avg_view_Bp = int(view_Bp.mean())"
   ]
  },
  {
   "cell_type": "code",
   "execution_count": 44,
   "metadata": {
    "colab": {
     "base_uri": "https://localhost:8080/",
     "height": 103
    },
    "colab_type": "code",
    "id": "eX8iUcIEoZsr",
    "outputId": "fe141714-6880-4590-a156-b44f73db8ddd"
   },
   "outputs": [
    {
     "name": "stdout",
     "output_type": "stream",
     "text": [
      "Average views in Grade A++ channel   23\n",
      "Average views in Grade A+ channel     22\n",
      "Average views in Grade A channel      21\n",
      "Average views in Grade A- channel     20\n",
      "Average views in Grade B+ channel      19\n"
     ]
    }
   ],
   "source": [
    "print(\"Average views in Grade A++ channel  \", avg_view_App)\n",
    "print(\"Average views in Grade A+ channel    \", avg_view_Ap)\n",
    "print(\"Average views in Grade A channel     \", avg_view_A)\n",
    "print(\"Average views in Grade A- channel    \", avg_view_Am)\n",
    "print(\"Average views in Grade B+ channel     \", avg_view_Bp)"
   ]
  },
  {
   "cell_type": "markdown",
   "metadata": {
    "colab_type": "text",
    "id": "zoVx6MM9okvA"
   },
   "source": [
    "Based on the cells above, it seems that the statistics for each variable are similar to each other based on the channel grades. With this, we will conduct a t-test, along with an analysis of variance (ANOVA) to ensure that they are. "
   ]
  },
  {
   "cell_type": "code",
   "execution_count": 45,
   "metadata": {
    "colab": {},
    "colab_type": "code",
    "id": "PGHyJEicsVdZ"
   },
   "outputs": [],
   "source": [
    "df_youtube.index = df_Log.index\n",
    "df_Log['Grade'] = df_youtube['Grade']"
   ]
  },
  {
   "cell_type": "code",
   "execution_count": 46,
   "metadata": {
    "colab": {
     "base_uri": "https://localhost:8080/",
     "height": 395
    },
    "colab_type": "code",
    "id": "tuOXJUp8onpW",
    "outputId": "cf9afcc1-7699-4630-e216-456e6ca0191c"
   },
   "outputs": [
    {
     "data": {
      "image/png": "[encoded data removed]",
      "text/plain": [
       "<Figure size 432x288 with 1 Axes>"
      ]
     },
     "metadata": {},
     "output_type": "display_data"
    }
   ],
   "source": [
    "# We first start with the number of subscribers\n",
    "sns.set(style = \"whitegrid\")\n",
    "ax = sns.boxplot(x = 'Grade', y = 'Subscribers Log', data = df_Log )"
   ]
  },
  {
   "cell_type": "code",
   "execution_count": 47,
   "metadata": {
    "colab": {
     "base_uri": "https://localhost:8080/",
     "height": 34
    },
    "colab_type": "code",
    "id": "1TUbhc9su5Ol",
    "outputId": "8007ce67-2ed6-47c6-b480-c5b7f25e62a7"
   },
   "outputs": [
    {
     "data": {
      "text/plain": [
       "F_onewayResult(statistic=219.55648441291584, pvalue=1.055513046200873e-172)"
      ]
     },
     "execution_count": 47,
     "metadata": {},
     "output_type": "execute_result"
    }
   ],
   "source": [
    "# ANOVA\n",
    "App = df_Log[df_Log['Grade'] == \"A++\"]['Subscribers Log']\n",
    "Ap = df_Log[df_Log['Grade'] == \"A+\"]['Subscribers Log']\n",
    "A = df_Log[df_Log['Grade'] == \"A\"]['Subscribers Log']\n",
    "Am = df_Log[df_Log['Grade'] == \"A-\"]['Subscribers Log']\n",
    "Bp = df_Log[df_Log['Grade'] == \"B+\"]['Subscribers Log']\n",
    "\n",
    "stats.f_oneway(App, Ap, A, Am, Bp)\n"
   ]
  },
  {
   "cell_type": "markdown",
   "metadata": {
    "colab_type": "text",
    "id": "lMZz7hGPxvJc"
   },
   "source": [
    "The test output provides an F-statistic of 219.56 and p-value that is smaller than 0.05. This indicate that there is a significant difference between the means of subscibers for each group. \n",
    "\n",
    "However, we think that can be worth investigating t-statistics between the different pairs of data. "
   ]
  },
  {
   "cell_type": "code",
   "execution_count": 48,
   "metadata": {
    "colab": {
     "base_uri": "https://localhost:8080/",
     "height": 361
    },
    "colab_type": "code",
    "id": "skcFPUJjxuUr",
    "outputId": "8a189b9a-6499-4a00-8657-79f7976b1384"
   },
   "outputs": [
    {
     "name": "stdout",
     "output_type": "stream",
     "text": [
      "A++ A+\n",
      "Ttest_indResult(statistic=2.1710521489509786, pvalue=0.03490257453144251)\n",
      "A++ A\n",
      "Ttest_indResult(statistic=4.4928155886917915, pvalue=7.938728303052824e-06)\n",
      "A++ A-\n",
      "Ttest_indResult(statistic=6.204012293022035, pvalue=8.208667737426439e-10)\n",
      "A++ B+\n",
      "Ttest_indResult(statistic=7.138834833690983, pvalue=1.2014723764549611e-12)\n",
      "A+ A\n",
      "Ttest_indResult(statistic=5.195617645448835, pvalue=2.5051439270871314e-07)\n",
      "A+ A-\n",
      "Ttest_indResult(statistic=8.566306848802855, pvalue=4.105193691889981e-17)\n",
      "A+ B+\n",
      "Ttest_indResult(statistic=10.872357953646752, pvalue=5.457355257139881e-27)\n",
      "A A-\n",
      "Ttest_indResult(statistic=11.462504893858384, pvalue=1.9872073020161612e-29)\n",
      "A B+\n",
      "Ttest_indResult(statistic=25.909833956194422, pvalue=6.4086421091810614e-136)\n",
      "A- B+\n",
      "Ttest_indResult(statistic=13.368897991185515, pvalue=7.783898409242252e-40)\n"
     ]
    }
   ],
   "source": [
    "grade = ['A++','A+','A','A-','B+']\n",
    "grade_pairs = []\n",
    "\n",
    "for grade1 in range(4):\n",
    "  for grade2 in range(grade1+1, 5):\n",
    "    grade_pairs.append((grade[grade1],grade[grade2]))\n",
    "    \n",
    "for grade1, grade2 in grade_pairs:\n",
    "  print(grade1, grade2)\n",
    "  print(stats.ttest_ind(df_Log[df_Log['Grade'] == grade1]['Subscribers Log'], df_Log[df_Log['Grade'] == grade2]['Subscribers Log']))\n",
    "    "
   ]
  },
  {
   "cell_type": "markdown",
   "metadata": {},
   "source": [
    "The p-values of all pairs are smaller than 0.05, and the results matches the results of ANOVA. "
   ]
  },
  {
   "cell_type": "code",
   "execution_count": 49,
   "metadata": {},
   "outputs": [
    {
     "data": {
      "image/png": "[encoded data removed]",
      "text/plain": [
       "<Figure size 432x288 with 1 Axes>"
      ]
     },
     "metadata": {},
     "output_type": "display_data"
    }
   ],
   "source": [
    "# Then we look at the video uploads\n",
    "sns.set(style = \"whitegrid\")\n",
    "ax = sns.boxplot(x = 'Grade', y = 'Video Uploads Log', data = df_Log)"
   ]
  },
  {
   "cell_type": "code",
   "execution_count": 50,
   "metadata": {
    "colab": {
     "base_uri": "https://localhost:8080/",
     "height": 34
    },
    "colab_type": "code",
    "id": "7lAkHVjJ228V",
    "outputId": "4b7de511-e7e7-44df-8d33-8bbff20b778b"
   },
   "outputs": [
    {
     "data": {
      "text/plain": [
       "F_onewayResult(statistic=31.094269733205007, pvalue=1.3784980560255228e-25)"
      ]
     },
     "execution_count": 50,
     "metadata": {},
     "output_type": "execute_result"
    }
   ],
   "source": [
    "# Analysis of Variance Test (ANOVA)\n",
    "App = df_Log[df_Log['Grade'] == \"A++\"]['Video Uploads Log']\n",
    "Ap = df_Log[df_Log['Grade'] == \"A+\"]['Video Uploads Log']\n",
    "A = df_Log[df_Log['Grade'] == \"A\"]['Video Uploads Log']\n",
    "Am = df_Log[df_Log['Grade'] == \"A-\"]['Video Uploads Log']\n",
    "Bp = df_Log[df_Log['Grade'] == \"B+\"]['Video Uploads Log']\n",
    "\n",
    "stats.f_oneway(App,Ap,A,Am,Bp)\n"
   ]
  },
  {
   "cell_type": "markdown",
   "metadata": {},
   "source": [
    "The test output provides an F-statistic of 31.09 and a p-value that is smaller than 0.05. This indicates that there is a significant difference between the means of subscibers for each group. \n",
    "\n",
    "Again, we feel that it is worth investigating the t-statistics between the different pairs of data. "
   ]
  },
  {
   "cell_type": "code",
   "execution_count": 51,
   "metadata": {
    "colab": {
     "base_uri": "https://localhost:8080/",
     "height": 361
    },
    "colab_type": "code",
    "id": "WvQUKC8s37HW",
    "outputId": "18e0f42d-c7d0-4d32-d210-647cbdb45d52"
   },
   "outputs": [
    {
     "name": "stdout",
     "output_type": "stream",
     "text": [
      "A++ A+\n",
      "Ttest_indResult(statistic=2.4546282645103075, pvalue=0.0177794692188958)\n",
      "A++ A\n",
      "Ttest_indResult(statistic=4.752682066461283, pvalue=2.3340031402412498e-06)\n",
      "A++ A-\n",
      "Ttest_indResult(statistic=5.515796404035093, pvalue=4.477495238493913e-08)\n",
      "A++ B+\n",
      "Ttest_indResult(statistic=6.198802632218939, pvalue=6.550082983200187e-10)\n",
      "A+ A\n",
      "Ttest_indResult(statistic=3.15568289502338, pvalue=0.0016524412679597188)\n",
      "A+ A-\n",
      "Ttest_indResult(statistic=4.409550555049186, pvalue=1.1504648273310405e-05)\n",
      "A+ B+\n",
      "Ttest_indResult(statistic=5.511315353851226, pvalue=3.8906590078056773e-08)\n",
      "A A-\n",
      "Ttest_indResult(statistic=3.9009979168948976, pvalue=9.924885793431969e-05)\n",
      "A B+\n",
      "Ttest_indResult(statistic=8.212593794084228, pvalue=2.9801766074689596e-16)\n",
      "A- B+\n",
      "Ttest_indResult(statistic=3.371890244885524, pvalue=0.0007542865253803218)\n"
     ]
    }
   ],
   "source": [
    "grade = ['A++','A+','A','A-','B+']\n",
    "grade_pairs = []\n",
    "\n",
    "for grade1 in range(4):\n",
    "  for grade2 in range(grade1+1, 5):\n",
    "    grade_pairs.append((grade[grade1],grade[grade2]))\n",
    "    \n",
    "for grade1, grade2 in grade_pairs:\n",
    "  print(grade1, grade2)\n",
    "  print(stats.ttest_ind(df_Log[df_Log['Grade'] == grade1]['Video Uploads Log'], df_Log[df_Log['Grade'] == grade2]['Video Uploads Log']))\n",
    "    "
   ]
  },
  {
   "cell_type": "markdown",
   "metadata": {},
   "source": [
    "The p-values for all pairs are smaller than 0.05, and the results matches the results of ANOVA. "
   ]
  },
  {
   "cell_type": "code",
   "execution_count": 52,
   "metadata": {},
   "outputs": [
    {
     "data": {
      "image/png": "[encoded data removed]",
      "text/plain": [
       "<Figure size 432x288 with 1 Axes>"
      ]
     },
     "metadata": {},
     "output_type": "display_data"
    }
   ],
   "source": [
    "# Lastly, we will look at the number of video views\n",
    "sns.set(style = \"whitegrid\")\n",
    "ax = sns.boxplot(x = 'Grade', y = 'Video Views Log', data = df_Log )"
   ]
  },
  {
   "cell_type": "code",
   "execution_count": 53,
   "metadata": {
    "colab": {
     "base_uri": "https://localhost:8080/",
     "height": 34
    },
    "colab_type": "code",
    "id": "WdJ4trq04P-f",
    "outputId": "9c26444c-ea33-4ca7-8928-18f3534d21aa"
   },
   "outputs": [
    {
     "data": {
      "text/plain": [
       "F_onewayResult(statistic=286.37128102149376, pvalue=3.3813400789974393e-220)"
      ]
     },
     "execution_count": 53,
     "metadata": {},
     "output_type": "execute_result"
    }
   ],
   "source": [
    "# Analysis of Variance Test (ANOVA)\n",
    "App = df_Log[df_Log['Grade'] == \"A++\"]['Video Views Log']\n",
    "Ap = df_Log[df_Log['Grade'] == \"A+\"]['Video Views Log']\n",
    "A = df_Log[df_Log['Grade'] == \"A\"]['Video Views Log']\n",
    "Am = df_Log[df_Log['Grade'] == \"A-\"]['Video Views Log']\n",
    "Bp = df_Log[df_Log['Grade'] == \"B+\"]['Video Views Log']\n",
    "\n",
    "stats.f_oneway(App,Ap,A,Am,Bp)\n"
   ]
  },
  {
   "cell_type": "markdown",
   "metadata": {},
   "source": [
    "The test output provides an F-statistic of 286.37 and a p-value that is smaller than 0.05. This indicates that there is a significant difference between the means of subscibers for each group. \n",
    "\n",
    "Once again, we believe that it is worth investigating the t-statistics between the different pairs of data. "
   ]
  },
  {
   "cell_type": "code",
   "execution_count": 54,
   "metadata": {
    "colab": {
     "base_uri": "https://localhost:8080/",
     "height": 361
    },
    "colab_type": "code",
    "id": "xFPoTgcA4Z3P",
    "outputId": "426a6ef6-9559-44bc-dce3-01623f0bfd49"
   },
   "outputs": [
    {
     "name": "stdout",
     "output_type": "stream",
     "text": [
      "A++ A+\n",
      "Ttest_indResult(statistic=3.7299101163672335, pvalue=0.0005061391793805576)\n",
      "A++ A\n",
      "Ttest_indResult(statistic=6.267666422930265, pvalue=5.664355436827507e-10)\n",
      "A++ A-\n",
      "Ttest_indResult(statistic=7.9513625518392175, pvalue=5.221658302260398e-15)\n",
      "A++ B+\n",
      "Ttest_indResult(statistic=10.071934500714548, pvalue=1.877958607863597e-23)\n",
      "A+ A\n",
      "Ttest_indResult(statistic=5.057400896374493, pvalue=5.114220359309188e-07)\n",
      "A+ A-\n",
      "Ttest_indResult(statistic=8.73646611895839, pvalue=1.0272867683004943e-17)\n",
      "A+ B+\n",
      "Ttest_indResult(statistic=12.608269781422303, pvalue=1.7728564078692785e-35)\n",
      "A A-\n",
      "Ttest_indResult(statistic=13.796658967705097, pvalue=2.837613117496991e-41)\n",
      "A B+\n",
      "Ttest_indResult(statistic=30.71391108575447, pvalue=2.757365185836277e-184)\n",
      "A- B+\n",
      "Ttest_indResult(statistic=13.5094763463376, pvalue=1.2734979434508685e-40)\n"
     ]
    }
   ],
   "source": [
    "grade = ['A++','A+','A','A-','B+']\n",
    "grade_pairs = []\n",
    "\n",
    "for grade1 in range(4):\n",
    "  for grade2 in range(grade1+1, 5):\n",
    "    grade_pairs.append((grade[grade1],grade[grade2]))\n",
    "    \n",
    "for grade1, grade2 in grade_pairs:\n",
    "  print(grade1, grade2)\n",
    "  print(stats.ttest_ind(df_Log[df_Log['Grade'] == grade1]['Video Views Log'], df_Log[df_Log['Grade'] == grade2]['Video Views Log']))\n",
    "    "
   ]
  },
  {
   "cell_type": "markdown",
   "metadata": {},
   "source": [
    "The p-values of all pairs are smaller than 0.05, and the results matches the results of ANOVA. "
   ]
  },
  {
   "cell_type": "markdown",
   "metadata": {},
   "source": [
    "After fitting the linear model, the ANOVA test, and t-test, we found that all the results suggest that creators on YouTube must make an effort and do their best on uploading more videos, earning more video views, and growing their subscriber count in order to grow their popularity and online presence. "
   ]
  },
  {
   "cell_type": "markdown",
   "metadata": {
    "colab_type": "text",
    "id": "04DSkAX6h1Lw"
   },
   "source": [
    "### Privacy and Ethics Consideration \n",
    "\n",
    "This project does not violate any policy or privacy because the data was taken from YouTube and SocialBlade, both public sources of information. Furthermore, the data does not contain any personal information such as the user's full name, address, or telephone number, or anything that would be subject to removal in the Safe Harbour Method. The YouTube channel name may contain the user's name but this is information that the user agrees to publicly release when they set the name when making the account. The data also does not violate any of YouTube's own privacy regulations:\n",
    "\n",
    "- Image or voice\n",
    "- Full name\n",
    "- Financial information\n",
    "- Contact information\n",
    "- Other personally identifiable information\n",
    "\n",
    "There may be some bias in the way that SocialBlade assigns the rankings and grades to each of the channels since they are calculated through their own methods, but seeing as SocialBlade is a well established resource that aims to provide user statistics for YouTube users themselves, it is highly unlikely that they use biased methods."
   ]
  },
  {
   "cell_type": "markdown",
   "metadata": {
    "colab_type": "text",
    "id": "0YcaTgIGh1Lz"
   },
   "source": [
    "\n",
    "\n",
    "### Conclusion and Discussion"
   ]
  },
  {
   "cell_type": "markdown",
   "metadata": {
    "colab_type": "text",
    "id": "ZcJgoFEPh1L1"
   },
   "source": [
    "Our data shows that subscriber count and video views are highly correlated to each other. This makes sense because we can assume that a great number of subscribers watch the videos of the channel that they are subscribed to. Therefore the more subscribers that a channel has, the more their videos are being watched increasing the number of total video views. This also goes the other way around: If there are less subscribers, there are less people who are surely to watch the videos that the channel uploads, so there are less total video views.\n",
    "We also found that the subscriber count and the number of video uploads are negatively correlated, meaning that the channels with fewer videos are more likely to have more subscribers than channels with many videos. This may be because the videos that the channels with the most subscribers upload are better in quality than those uploaded by channels that mass produce their videos. However, this is a tentative theory and will have to be tested in the future.\n",
    "\n",
    "To new and continuing Youtube content creators, we suggest that your goal should not be to upload as many videos as possible. If you are creating good content, the subscribers and the views should follow.\n",
    "\n",
    "Our answer to our research question is limited by the data set in that there are not enough columns in the data set. In other words, there are not enough features about Youtube channels present to thoroughly provide information about all the factors that influence subscriber count. Clearly, there are other factors such as genre and average video length that have a strong impact on subscriber count, but this data would have to be gathered elsewhere.\n",
    "Another limitation is that since our data contains only the top 5000 users, we can only gather information from channels ranked B+ to A++. Since newer and less popular content creators are more likely to have a lower rank, it is not possible to gather and analyze information that specifically pertains only to this type of content creator."
   ]
  }
 ],
 "metadata": {
  "colab": {
   "collapsed_sections": [],
   "name": "FinalProject.ipynb",
   "provenance": [],
   "version": "0.3.2"
  },
  "kernelspec": {
   "display_name": "Python 3",
   "language": "python",
   "name": "python3"
  },
  "language_info": {
   "codemirror_mode": {
    "name": "ipython",
    "version": 3
   },
   "file_extension": ".py",
   "mimetype": "text/x-python",
   "name": "python",
   "nbconvert_exporter": "python",
   "pygments_lexer": "ipython3",
   "version": "3.7.1"
  }
 },
 "nbformat": 4,
 "nbformat_minor": 1
}
